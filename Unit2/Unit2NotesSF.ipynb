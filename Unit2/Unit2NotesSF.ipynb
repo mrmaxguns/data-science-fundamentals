{
 "cells": [
  {
   "cell_type": "markdown",
   "metadata": {
    "colab_type": "text",
    "id": "view-in-github"
   },
   "source": [
    "<a href=\"https://colab.research.google.com/github/thedarredondo/data-science-fundamentals/blob/main/Unit2/Unit2NotesSF.ipynb\" target=\"_parent\"><img src=\"https://colab.research.google.com/assets/colab-badge.svg\" alt=\"Open In Colab\"/></a>"
   ]
  },
  {
   "cell_type": "markdown",
   "metadata": {
    "id": "LAQNBHLpQgwf"
   },
   "source": [
    "The following are the installations and libraries neccesary to run the code in these notes. Some of the libraries in this course are so new that they aren't preinstalled on the Google servers that collabratory runs on. We'll need to reninstall them each time we get the \"runtime disconnect message\""
   ]
  },
  {
   "cell_type": "code",
   "execution_count": null,
   "metadata": {
    "id": "3xvGOrVlmKf9"
   },
   "outputs": [],
   "source": [
    "!pip install \"preliz[full,notebook]\"\n",
    "!pip install pymc"
   ]
  },
  {
   "cell_type": "code",
   "execution_count": 2,
   "metadata": {
    "id": "SnxvjBKAdP2u"
   },
   "outputs": [],
   "source": [
    "#We'll also need to re-import this library after we reinstall it\n",
    "\n",
    "import preliz as pz"
   ]
  },
  {
   "cell_type": "code",
   "execution_count": 5,
   "metadata": {
    "id": "u0x66ER4Jv3v"
   },
   "outputs": [
    {
     "name": "stderr",
     "output_type": "stream",
     "text": [
      "WARNING (pytensor.tensor.blas): Using NumPy C-API based implementation for BLAS functions.\n"
     ]
    }
   ],
   "source": [
    "#These libraries don't need to be reinstalled each time, but they will need to be\n",
    "#re-imported each time\n",
    "\n",
    "import numpy as np\n",
    "import arviz as az\n",
    "import pymc as pm"
   ]
  },
  {
   "cell_type": "markdown",
   "metadata": {
    "id": "1vRRvsSnMenD"
   },
   "source": [
    "# **Unit 2: Probability with a Pinch of Python**\n",
    "\n",
    "We will spend this entire unit trying to answer a single question: What will Victor Wembanyama's true Free Throw percentage (FT%) be in the NBA?\n",
    "\n",
    "This will acomplish three things:\n",
    "\n",
    "1. Give you a foundation upon which to grow your inuition about probability and predictive models.\n",
    "2. Show you that any question about the real world can be made arbitrarily complicated.\n",
    "3. Help emphasize that there are always many ways to answer a question.\n",
    "\n",
    "Here's a word salad of things you'll learn in this unit: mean, mode, median, the three axioms of probability, Bayes' Rule, prior, likelihood, posterior,  probability denisty function, uniform distribution, beta distribution, and binomial distribution.\n",
    "\n",
    "We will also introduce the most basic version of a pymc model, a code skeleton from from which we will summon many predictive monsters in the coming units.\n",
    "\n",
    "Let's dive in."
   ]
  },
  {
   "cell_type": "markdown",
   "metadata": {
    "id": "5CKhGrlr0u-N"
   },
   "source": [
    "### **Free Throws**\n",
    "\n",
    "Victor Wembanyama is a profesional basketball player for the San Antonio Spurs NBA team. In the summer of 2023, Wembanyama had yet to play a game in the NBA, although he had played in other professional leagues in France.\n",
    "\n",
    "There was a lot of hype around how good a player Wembanyama would be in the NBA, and many questions, one of which was: How good would Victor Wembanyama be at shooting the basketball?\n",
    "\n",
    "One metric to use is Free Throw Percentage (FT%). In basketball, players are awared an unobscured attempt to toss a basketball into a hoop (the main goal of the game) under certain condtions. All free throws are shot from the same spot, and players either make of miss the shot. Made free throws award the player's team 1 point, and missed free throws award 0 points."
   ]
  },
  {
   "cell_type": "markdown",
   "metadata": {
    "id": "WtqZdU6IBn_j"
   },
   "source": [
    "### **Assumptions: Modeling Free Throws Prior Information**\n",
    "Let's try to figure out what Victor Wembanyama's free throw percentage will be in the NBA."
   ]
  },
  {
   "cell_type": "markdown",
   "metadata": {
    "id": "VogX7DqwCzaU"
   },
   "source": [
    "First, let's acknowledge that we **must** make an assumptions in order to make a guess. We'd *have* to make an assumption, even if only to assume that every possible free throw percentage is equally likely.\n",
    "\n",
    "**Task1**: So, what is Wembanyama's most likely free throw percentage, if all possible free throw percentages are equally likely and we otherwise know nothing about Wembanyama or free throws?"
   ]
  },
  {
   "cell_type": "markdown",
   "metadata": {
    "id": "4ZbdDfk9Etvf"
   },
   "source": [
    "**Answer1**:\n",
    "\n",
    "His percentage would be 50%, since if all percentages are equally likely, high percentages would be balanced out by low percentages, putting the result in the middle."
   ]
  },
  {
   "cell_type": "markdown",
   "metadata": {
    "id": "KM37P8ZNGnsl"
   },
   "source": [
    "Below is a graph showing every possible free throw percentage on the x-axis. The y-axis goes from $0$ to $1$, and the blue line happens to be at $y=1$. The blue line is horizontal to represent that each x value, or proportion, is equally likely.\n",
    "\n",
    "Don't worry about understanding this graph or the code that generated it right now. It's here for when you reference these notes later."
   ]
  },
  {
   "cell_type": "code",
   "execution_count": 6,
   "metadata": {
    "id": "gaCvjBeVGJEB"
   },
   "outputs": [
    {
     "data": {
      "text/plain": [
       "<Axes: >"
      ]
     },
     "execution_count": 6,
     "metadata": {},
     "output_type": "execute_result"
    },
    {
     "data": {
      "image/png": "[encoded data removed]",
      "text/plain": [
       "<Figure size 640x480 with 1 Axes>"
      ]
     },
     "metadata": {},
     "output_type": "display_data"
    }
   ],
   "source": [
    "pz.Uniform(0,1).plot_pdf() # plots the uniform distribution"
   ]
  },
  {
   "cell_type": "markdown",
   "metadata": {
    "id": "GOmHOq4j9dNY"
   },
   "source": [
    "In order to predict free throw percentage, we had to make an asumption.\n",
    "\n",
    "It turns out that assumptions are required for more than predicting free throw percentage--**assumptions are required to predict/guess anything uncertain**.\n",
    "All of reality, and everything in it, is at least functionally uncertain (...probably...). Therefore, we need to make assumptions in order to make any logical statements about the state of the world we live in."
   ]
  },
  {
   "cell_type": "markdown",
   "metadata": {
    "id": "oFHP-FVw_Opg"
   },
   "source": [
    "Instead of worrying about the world and all reality, let's go back to predicting free throw percentage.\n",
    "\n",
    "Since we had to make an assumption to get an answer, let's see if we can do better than \"all possible answers are equally likely.\" What do we know about Wembanyma's free throw shooting?\n"
   ]
  },
  {
   "cell_type": "markdown",
   "metadata": {
    "id": "5DpXCGoHguau"
   },
   "source": [
    "Wembanyama played professionally in the Euroleague, and he made 24 out 32 free throws or $\\frac{24}{32}=0.75$ free throws. You may be tempted to say the expected proportion of made free throws is $0.75$--and it is--but only reporting that is throwing away information.\n",
    "For example, $\\frac{24}{32}=\\frac{3}{4}$, but Wembanyama didn't shoot just 4 free throws, he shot 32. We need a way to show that seeing the outcome of more free throws increases how confident we are in our estimate."
   ]
  },
  {
   "cell_type": "markdown",
   "metadata": {
    "id": "cP7riXtpcVa_"
   },
   "source": [
    "**Task2**:\n",
    "\n",
    "In order to do that, we're gonna need to do some math. Not calculations (those are for your computer), rather, we'll redefine a free throw into its relevant, logical parts.\n",
    "\n",
    "What about a free throw are we recording? In other words, what about a free throw do we care about?"
   ]
  },
  {
   "cell_type": "markdown",
   "metadata": {
    "id": "ArMROyo1p8Fe"
   },
   "source": [
    "**Answer2**:\n",
    "\n",
    "We care about whether the free throw is thrown successfully into the hoop."
   ]
  },
  {
   "cell_type": "markdown",
   "metadata": {
    "id": "dnTn1MtIJa1R"
   },
   "source": [
    "Before we go further, we know to define 'uncertainty' the way we defined free throws: by breaking uncertainty into its relevant, logical parts.\n",
    "\n",
    "Also, instead of the word 'uncertainty', we'll use the word 'probability'."
   ]
  },
  {
   "cell_type": "markdown",
   "metadata": {
    "id": "TWF78TPBj66z"
   },
   "source": [
    "**Task3**:\n",
    "\n",
    "Take a moment to think about what \"probablity\" means.\n",
    "\n",
    "Ask at least one other person what they think it means.\n",
    "\n",
    "Write your definition, and at least one other person's definition. Pick which one you like best, or make a new definition that combines the two."
   ]
  },
  {
   "cell_type": "markdown",
   "metadata": {
    "id": "KWhyVFankQcO"
   },
   "source": [
    "**Answer**:\n",
    "\n",
    "Probability is the likelihood of all outcomes in a situation -- me\n",
    "\n",
    "Probability is the likelihood of a specific outcome of a specific scenario -- Aedan\n",
    "\n",
    "The likelihood of a random event occuring -- Finn\n",
    "\n",
    "Question: does probability require randomness?\n",
    "\n",
    "Result: The likelihood of an uncertain outcome occuring."
   ]
  },
  {
   "cell_type": "markdown",
   "metadata": {
    "id": "k-1iSEhvkSeH"
   },
   "source": [
    "Now that we know what a probablity is, we can use those 24 out of 32 free throws we've \"seen\" Victor Wembanyama shoot.\n",
    "\n",
    "Each of those 32 free throw attempts had some probability of going through the hoop and generating a point. We'll call that probability $\\theta$ (pronouced \"theta\") since we don't know what it is, and because greek letters make me feel like I'm a real mathematician.\n",
    "\n",
    "Since Wembanyama made 24 made free throws, we have 24 $θ$s, and we'll call each of the 8( = 32 - 24) misses $1-θ$.\n",
    "\n",
    "As a reminder, those 32 free throw attempts are helping us form an assumption about the probability of Wembanyama's free throw percentage being any particular number. Before, we said it was euqally likely to be any possible free throw percentage.\n",
    "\n",
    "One more notational thing: let $p()$ read \"the probability of ___\". Thus, $p(\\theta)$ reads \"the probability of the true probability of Victor Wembanyama making a free throw\".\n",
    "\n",
    "Returing to the \"equally likely\" assumption, we basically said $p(θ) ∼ Uniform(0,1)$ or $p(θ) \\sim U(0,1)$. This reads \"the true probability of Victor Wembanyama making a free throw is uniformly distributed within the interval 0 to 1\".\n"
   ]
  },
  {
   "cell_type": "markdown",
   "metadata": {
    "id": "c8dYN2YYsaBT"
   },
   "source": [
    "**Task4**:\n",
    "\n",
    "Guess how we could write the distribution of the true probability of Wembanyama making a free throw, but now with the prior knowledge that he made 24 out of 32 free throws in Euroleage play."
   ]
  },
  {
   "cell_type": "markdown",
   "metadata": {
    "id": "VLEMkVy70Wg2"
   },
   "source": [
    "**Answer4**:\n",
    "\n",
    "Perhaps, $\\theta = 24/32 = 0.75$, so I would assume he'd have a 75% chance of making it. Then, $\\theta - 1$ would be $0.25$\n",
    "\n",
    "Nope, I was so wrong..."
   ]
  },
  {
   "cell_type": "code",
   "execution_count": 7,
   "metadata": {
    "id": "nUP2gYoqSC6M"
   },
   "outputs": [
    {
     "data": {
      "text/plain": [
       "<Axes: >"
      ]
     },
     "execution_count": 7,
     "metadata": {},
     "output_type": "execute_result"
    },
    {
     "data": {
      "image/png": "[encoded data removed]",
      "text/plain": [
       "<Figure size 640x480 with 1 Axes>"
      ]
     },
     "metadata": {},
     "output_type": "display_data"
    }
   ],
   "source": [
    "#plotting the beta distribution with shape parameter 24 and scale parameter 8\n",
    "pz.Beta(alpha=24,beta=8).plot_pdf()"
   ]
  },
  {
   "cell_type": "markdown",
   "metadata": {
    "id": "zo8ORkse74Zq"
   },
   "source": [
    "**Task5**:\n",
    "\n",
    "Which prior distribution is better, the $Beta(α=24, β=8)$ distribution, or the $U(0,1)$ distribution.\n",
    "\n",
    "Why?"
   ]
  },
  {
   "cell_type": "markdown",
   "metadata": {
    "id": "nNNmtP_x83uW"
   },
   "source": [
    "**Answer5**:\n",
    "\n",
    "I would guess that the beta distribution is better because it factors his past free throws."
   ]
  },
  {
   "cell_type": "markdown",
   "metadata": {
    "id": "O4eB8zDPh7rK"
   },
   "source": [
    "### **Predictions with only prior knowledge**\n",
    "\n",
    "Recall that we wanted to predict Victor Wembanyama's free throw percentage. While there are technically infinte guesses we could make--any percentage under the blue curve above is valid--we now have a precise way of saying what the expected/average free throw percentage is, and the the most likely/probable free throw percentage. Also try to find the \"middle\" percentage, AKA the median.\n",
    "\n"
   ]
  },
  {
   "cell_type": "markdown",
   "metadata": {
    "id": "E2bTiKE_OFMd"
   },
   "source": [
    "**Task6**:\n",
    "\n",
    "Find Wembanyama's expected FT%, middle FT%, and most likely FT% based only on the free throws he shoot in Euroleage"
   ]
  },
  {
   "cell_type": "code",
   "execution_count": 13,
   "metadata": {
    "id": "P8UqVnmTZHoE"
   },
   "outputs": [
    {
     "data": {
      "text/plain": [
       "(0.75, 0.7552582743060792, 0.7666666666666667)"
      ]
     },
     "execution_count": 13,
     "metadata": {},
     "output_type": "execute_result"
    }
   ],
   "source": [
    "#ANSWER6\n",
    "\n",
    "# Creating a beta distribution: a 2-parameter distribution\n",
    "distribution = pz.Beta(alpha=24, beta=8)\n",
    "\n",
    "# Expected: mean\n",
    "mean = distribution.mean()\n",
    "# Middle: median\n",
    "median = distribution.median()\n",
    "# Most likely: mode\n",
    "mode = (distribution.alpha - 1) / (distribution.alpha + distribution.beta - 2)\n",
    "\n",
    "mean, median, mode"
   ]
  },
  {
   "cell_type": "markdown",
   "metadata": {
    "id": "4YL0Wq1Rf5PR"
   },
   "source": [
    "**Answer6**:\n",
    "\n",
    "I created a beta distribution with our 2 parameters, and then used that to calculate mean, median, and mode."
   ]
  },
  {
   "cell_type": "markdown",
   "metadata": {
    "id": "iYtAujjufTWQ"
   },
   "source": [
    "### **Acknowledging our Observations: Modeling Free Throws from the NBA**\n",
    "\n",
    "In this section, we will learn a rule for how to change our predictions as we gain more information, or data.\n",
    "\n",
    "For now, that new information will be \"seeing\" Victor Wembanyama shoot free throws in an NBA game."
   ]
  },
  {
   "cell_type": "markdown",
   "metadata": {
    "id": "x9NXhsdmydFA"
   },
   "source": [
    "Right now, we have a prior, $p(θ) = Beta(α=24, β=8)=\\frac{Γ(α+β)}{Γ(α)Γ(β)}θ^{α-1}(1-θ)^{β-1}=\\frac{31!}{23!7!}θ^{23}(1-θ)^{7}$\n",
    "\n",
    "This represents that we don't know Wembanyama's true free throw percentage, but we do know he made 24 out of 32 free throws in Euroleague basketball. Specifically, $θ$ represents his true chance of making a free throw.\n",
    "\n"
   ]
  },
  {
   "cell_type": "markdown",
   "metadata": {
    "id": "KktmhWuR24ge"
   },
   "source": [
    "Put that aside for now. Consider this information, or these data: we observe Wembanyama make 7 out 9 free throws in his first 2 NBA games. Let's consider the chance, or likelihood, of this happening.\n",
    "\n",
    "Made free throws are represented by $θ$, and misses by $1-θ$. Because free throws are independent, we can again represent a bunch of makes and misses through multiplication."
   ]
  },
  {
   "cell_type": "markdown",
   "metadata": {
    "id": "OnIxRnfAPKaS"
   },
   "source": [
    "**Task7**:\n",
    "\n",
    "Write down an expression for the likelihood of seeing these data (7 made free throws out of 9) given we knowthe true free throw rate $θ$."
   ]
  },
  {
   "cell_type": "markdown",
   "metadata": {
    "id": "cncMHZEUybgR"
   },
   "source": [
    "**Answer7**:\n",
    "\n",
    "We can use a binomial distribution:\n",
    "\n",
    "$$\n",
    "f(k, n, p) = \\binom{n}{k} p^{k} (1 - p)^{n - k}\n",
    "$$\n",
    "\n",
    "Where $p = \\theta$, $k = 7$, $n = 9$\n",
    "\n",
    "[Wikipedia](https://en.wikipedia.org/wiki/Binomial_distribution)"
   ]
  },
  {
   "cell_type": "markdown",
   "metadata": {
    "id": "oiFNJqm9zOb0"
   },
   "source": [
    "We've seen preliz's function for our prior in this scenario, $Beta(α,β)$. Preliz also has a nice function for the binomial distribution, shown below:"
   ]
  },
  {
   "cell_type": "code",
   "execution_count": 14,
   "metadata": {
    "colab": {
     "base_uri": "https://localhost:8080/",
     "height": 447
    },
    "id": "BemOLoPVzw6H",
    "outputId": "5ea9fdca-e02a-4e30-9555-2a7f7070a546"
   },
   "outputs": [
    {
     "data": {
      "text/plain": [
       "<Axes: >"
      ]
     },
     "execution_count": 14,
     "metadata": {},
     "output_type": "execute_result"
    },
    {
     "data": {
      "image/png": "[encoded data removed]",
      "text/plain": [
       "<Figure size 640x480 with 1 Axes>"
      ]
     },
     "metadata": {},
     "output_type": "display_data"
    }
   ],
   "source": [
    "pz.Binomial(n = 9, p = 7/9 ).plot_pdf()"
   ]
  },
  {
   "cell_type": "markdown",
   "metadata": {
    "id": "DekloZWUwuwY"
   },
   "source": [
    "### **Updating our Predictions/Beliefs**"
   ]
  },
  {
   "cell_type": "markdown",
   "metadata": {
    "id": "RHlnf8T15wq5"
   },
   "source": [
    "Let's review what we've learned.:\n",
    "\n",
    "- We have a formula for our **prior** knowledge about Wembanayma's free throw shooting from his play in Euroleague, $p(θ) = Beta(α=24, β=8)=\\frac{31!}{23!7!}θ^{23}(1-θ)^{7}$. (This prior is our way to guess before we've seen any anything about the NBA.)\n",
    "- We have a formula for the **likelihood** that Wembanyama made 7 out of 9 free throws in his first two NBA games, $p(y|θ)=Binomial(n=9,k=7,θ)=\\frac{9!}{(9-7)!7!}θ^{7}(1-θ)^{2}$\n",
    "\n",
    "and also what we want:\n",
    "\n",
    "- A prediction of Wembanyama's true free throw percentage in the NBA, $θ$, given that we've seen him make 7 out of 9 free throws in the NBA,  $p(θ|y)$. This prediction is **post**, or after, seeing data and making assumptions.\n",
    "\n"
   ]
  },
  {
   "cell_type": "markdown",
   "metadata": {
    "id": "L0l1eISl4ZGy"
   },
   "source": [
    "Thus far, when we have two probablities that happen in conjunction, we have multiplied them. That trend will continue here.\n",
    "\n",
    "**Task8**:\n",
    "\n",
    "Write a formula for knowing both the likelihood and the prior in this free throw example.\n"
   ]
  },
  {
   "cell_type": "markdown",
   "metadata": {
    "id": "IifjGkMiJzvy"
   },
   "source": [
    "**Answer8**:\n",
    "\n",
    "We can take the two distributions (prior and likelihood), and multiply them together."
   ]
  },
  {
   "cell_type": "markdown",
   "metadata": {
    "id": "pIHLIqOT5OFn"
   },
   "source": [
    "We now have our answer--or at least, a formula for getting one.\n",
    "\n",
    "The probability of Victor Wembanayma's true free throw percentage in the NBA given the free throws we've seen him shoot thus far is:\n",
    "\n",
    "$p(θ|y) ∝ p(y|θ)p(θ) = Beta(α_{new}=α+k,β_{new}=n-k+β)$\n",
    "\n",
    "The $∝$ reads \"proportional to\". Its a statement we use instead of an equal sign that allows us to drop the scracy fractions. Those \"scary fractions\" will get subsumed into a [normalizing constant](https://en.wikipedia.org/wiki/Normalizing_constant#:~:text=In%20probability%20theory%2C%20a%20normalizing%20constant%20is%20a%20constant%20by,or%20a%20probability%20mass%20function.). More on that later, but for now, all you need to know is this:\n",
    "\n",
    "The models we create need to know about $θ$--the thing we want to predict--and how $θ$ intereacts with the world. Our computer is capable of handling the rest."
   ]
  },
  {
   "cell_type": "markdown",
   "metadata": {
    "id": "WM_uGSSfDHYn"
   },
   "source": [
    "**Task9**:\n",
    "\n",
    "Now that we have a formula, let's use our computer to answer our question: \"What do we expect Victor Wembanyama's true free throw percentage to be?\"\n",
    "\n",
    "*Hint*: Is there code on elsewhere on this notebook for the Beta distribution?"
   ]
  },
  {
   "cell_type": "code",
   "execution_count": 18,
   "metadata": {
    "id": "PtK-eJfNEUbu"
   },
   "outputs": [
    {
     "data": {
      "text/plain": [
       "0.7560975609756098"
      ]
     },
     "execution_count": 18,
     "metadata": {},
     "output_type": "execute_result"
    }
   ],
   "source": [
    "#ANSWER9\n",
    "\n",
    "analytic_FT = pz.Beta(alpha=24 + 7, beta=8 + 2)\n",
    "analytic_FT.mean()"
   ]
  },
  {
   "cell_type": "markdown",
   "metadata": {
    "id": "-emd9jJKHJK_"
   },
   "source": [
    "While that constitutes our best guess, the 'real' answer is the whole distribution, shown below"
   ]
  },
  {
   "cell_type": "code",
   "execution_count": 16,
   "metadata": {
    "colab": {
     "base_uri": "https://localhost:8080/",
     "height": 447
    },
    "id": "e5KLjk3KHWS1",
    "outputId": "04fe29ff-0921-411f-ebae-c7b15fae587c"
   },
   "outputs": [
    {
     "data": {
      "text/plain": [
       "<Axes: >"
      ]
     },
     "execution_count": 16,
     "metadata": {},
     "output_type": "execute_result"
    },
    {
     "data": {
      "image/png": "[encoded data removed]",
      "text/plain": [
       "<Figure size 640x480 with 1 Axes>"
      ]
     },
     "metadata": {},
     "output_type": "display_data"
    }
   ],
   "source": [
    "#this will only run based on code from the answer key, and is mainly here to\n",
    "#give you a hint at how to answer the pervious task\n",
    "analytic_FT.plot_pdf()"
   ]
  },
  {
   "cell_type": "markdown",
   "metadata": {
    "id": "P9dmv0GVmdCU"
   },
   "source": [
    "Let's linger on my last statement:\n",
    "\n",
    "\"the 'real' answer is the whole distribution\"\n",
    "\n",
    "**Task10**:\n",
    "Why is the whole distribution better than a single point estimate, a single guess?"
   ]
  },
  {
   "cell_type": "markdown",
   "metadata": {
    "id": "ekpQzswf3IpN"
   },
   "source": [
    "**Answer10**:\n",
    "\n",
    "A the end of the day, we are making a prediction based on past data. All points on the distribution could reflect reality in the future. The distribution is simply a statement of the likelihood of each event occuring."
   ]
  },
  {
   "cell_type": "markdown",
   "metadata": {
    "id": "Z4My6KxN78oM"
   },
   "source": [
    "Now that we have some inuition and skills on how to guess Wembanyama's FT%, a natural extension is to wonder if we can predict the results of his actual free throws."
   ]
  },
  {
   "cell_type": "markdown",
   "metadata": {
    "id": "qKnHdVkAc9pV"
   },
   "source": [
    "### **Probabalistic Programming: Predicting Free Throws**\n",
    "\n",
    "This is where things get interesting.\n",
    "\n",
    "There is an analytic (formulaic and exact) solution to predicitng Wembanyams's future free throws, but we won't use it here for two reasons.\n",
    "- It involves calculating this integral: $ \\int_{}^{} p(\\tilde{y}|θ)p(θ|y) \\,dθ  $, where $\\tilde{y}$ is predicted data, or, in this case, predicted free throws.\n",
    "- The approximate, or sampling, method we'll use instead will work even in situations where that integral is intractable.\n",
    "\n",
    "\n",
    " To avoid ever having to calculate that integral, we will need to make use of a powerful technique known as Markov Chain Monte Carlo (MCMC). Eventually we will cover a version of MCMC in more depth, but even then, we will not cover precisely what's happening underneath the hood with pymc.\n",
    "\n",
    " pymc is the library of functions we'll use to build our model, and it will underpin every model we'll build going forward. Imagine its like a car. Cars have all sorts of features now a days, from power steering and automatic transmission, to blind spot warnings and lane assist. They can't quite drive themselves yet, but even if they could, there's nothing stopping us from manually driving one off a cliff, warning lights be damned.\n",
    "\n",
    " We will learn how to avoid using our model to drive ourselves off a cliff, and we will also learn how to make use of its fancy bells and whistles. Hopefully, this will be just as empowering as getting behind the wheel. Like a car has a complicated engine powering its capabilites, a pymc model has a complicated MCMC engine powering its capablities, and you don't really need to know how either work to take it for a drive.\n",
    "\n",
    "**But remember**: Things will break.\n",
    "This course will teach you how to drive, not how to be a mechanic. Often there are warning lights to help with this, but sometimes not--and there's no warning light in the world that can protect you from yourself."
   ]
  },
  {
   "cell_type": "markdown",
   "metadata": {
    "id": "FbPQYM29-m5n"
   },
   "source": [
    "Let's return to coding.\n",
    "\n",
    "Before we make any predictions about future FTs, we need to redo our entire anaylsis with a library called pymc."
   ]
  },
  {
   "cell_type": "code",
   "execution_count": 19,
   "metadata": {
    "id": "xJqOeBZiRiw_"
   },
   "outputs": [],
   "source": [
    "#loading pymc, the fancy library of functions that allows us to only focus on θ\n",
    "#we already did this at the beginning of the notebook, but I put it here again\n",
    "#to emphasize that this is the first time we're using it\n",
    "import pymc as pm"
   ]
  },
  {
   "cell_type": "code",
   "execution_count": 20,
   "metadata": {
    "id": "zGQQbmnERlOq"
   },
   "outputs": [],
   "source": [
    "#the makes we've seen from the NBA\n",
    "FT_makes = np.repeat(1, 7)\n",
    "\n",
    "#the misses we've seen from the NBA\n",
    "FT_misses = np.repeat(0, 2)\n",
    "\n",
    "#combine makes and misses into one array\n",
    "FT_data = np.concatenate( [FT_makes,FT_misses] )\n",
    "\n",
    "#the last three lines can be combined into one line\n",
    "#FT_data = np.repeat([1,0], repeats = [7,2])\n",
    "#Which method of making FT_data is easier to understand?"
   ]
  },
  {
   "cell_type": "code",
   "execution_count": 21,
   "metadata": {
    "id": "ugzE_T6NdJWw"
   },
   "outputs": [
    {
     "data": {
      "text/html": [
       "<pre style=\"white-space:pre;overflow-x:auto;line-height:normal;font-family:Menlo,'DejaVu Sans Mono',consolas,'Courier New',monospace\">Sampling 4 chains, 0 divergences <span style=\"color: #008000; text-decoration-color: #008000\">━━━━━━━━━━━━━━━━━━━━━━━━━━━━━━━━━━━━━━━━</span> <span style=\"color: #800080; text-decoration-color: #800080\">100%</span> <span style=\"color: #008080; text-decoration-color: #008080\">0:00:00</span> / <span style=\"color: #808000; text-decoration-color: #808000\">0:00:01</span>\n",
       "</pre>\n"
      ],
      "text/plain": [
       "Sampling 4 chains, 0 divergences \u001b[32m━━━━━━━━━━━━━━━━━━━━━━━━━━━━━━━━━━━━━━━━\u001b[0m \u001b[35m100%\u001b[0m \u001b[36m0:00:00\u001b[0m / \u001b[33m0:00:01\u001b[0m\n"
      ]
     },
     "metadata": {},
     "output_type": "display_data"
    },
    {
     "data": {
      "text/html": [
       "<pre style=\"white-space:pre;overflow-x:auto;line-height:normal;font-family:Menlo,'DejaVu Sans Mono',consolas,'Courier New',monospace\"></pre>\n"
      ],
      "text/plain": []
     },
     "metadata": {},
     "output_type": "display_data"
    },
    {
     "name": "stderr",
     "output_type": "stream",
     "text": [
      "Sampling 4 chains for 1_000 tune and 1_000 draw iterations (4_000 + 4_000 draws total) took 2 seconds.\n"
     ]
    }
   ],
   "source": [
    "#Nearly every single model we will build in this class will have\n",
    "#the below outline as its foundation. Get hyped.\n",
    "\n",
    "with pm.Model() as wmby_FT_model:\n",
    "  #we define our prior with the makes and misses from Euroleague\n",
    "  #notice how we make alpha and beta floats by using '.'\n",
    "  θ = pm.Beta('θ' , alpha = 24. , beta = 8.)\n",
    "\n",
    "  #we define our likelihood, which is how we process the free throws\n",
    "  #we've seen Wemby make in the NBA\n",
    "  #Think of Bernoulli as a stand in for the binomial distribution\n",
    "  #This allow us to predict one free throw at a time later, among other things\n",
    "  y = pm.Bernoulli('y', p = θ, observed = FT_data)\n",
    "\n",
    "  #this part is new. We sample from our posterior because we don't actually\n",
    "  #have a formula for it.\n",
    "  idata_FT = pm.sample(1000)\n"
   ]
  },
  {
   "cell_type": "markdown",
   "metadata": {
    "id": "nrVoeHRSAz23"
   },
   "source": [
    "The last line of code in the previous code block draws 1000 $θ$s for us to play with. What does that mean? Let's start with a picture:\n",
    "\n",
    "\n"
   ]
  },
  {
   "cell_type": "code",
   "execution_count": 22,
   "metadata": {
    "id": "s6mjzyhYHlN0"
   },
   "outputs": [],
   "source": [
    "#arviz is a companion data visualization library for pymc. Again, we already\n",
    "#imported this library, but its repeated here for emphasis.\n",
    "import arviz as az"
   ]
  },
  {
   "cell_type": "code",
   "execution_count": 23,
   "metadata": {
    "id": "2Itci9u-H2aX"
   },
   "outputs": [
    {
     "data": {
      "text/plain": [
       "<Axes: title={'center': 'θ'}>"
      ]
     },
     "execution_count": 23,
     "metadata": {},
     "output_type": "execute_result"
    },
    {
     "data": {
      "image/png": "[encoded data removed]",
      "text/plain": [
       "<Figure size 640x480 with 1 Axes>"
      ]
     },
     "metadata": {},
     "output_type": "display_data"
    }
   ],
   "source": [
    "#vizualize the 1000 samples from the pymc model of the posterior\n",
    "az.plot_posterior(idata_FT)"
   ]
  },
  {
   "cell_type": "markdown",
   "metadata": {
    "id": "PQPkA3VVTLrX"
   },
   "source": [
    "Let's compare this to the analytic solution."
   ]
  },
  {
   "cell_type": "code",
   "execution_count": 24,
   "metadata": {
    "id": "bLwyyW4LbW5q"
   },
   "outputs": [
    {
     "data": {
      "text/plain": [
       "<Axes: >"
      ]
     },
     "execution_count": 24,
     "metadata": {},
     "output_type": "execute_result"
    },
    {
     "data": {
      "image/png": "[encoded data removed]",
      "text/plain": [
       "<Figure size 640x480 with 1 Axes>"
      ]
     },
     "metadata": {},
     "output_type": "display_data"
    }
   ],
   "source": [
    "#probability density function (pdf) of the analytic solution\n",
    "analytic_FT.plot_pdf()"
   ]
  },
  {
   "cell_type": "markdown",
   "metadata": {
    "id": "SV4M4hTl-ql2"
   },
   "source": [
    "**Task11**:\n",
    "\n",
    "List similarities and differences between the pymc model's samples, and the analytic model's pdf. Discuss these with at least one other person"
   ]
  },
  {
   "cell_type": "markdown",
   "metadata": {
    "id": "doKqcBLya7CV"
   },
   "source": [
    "**Answer11**:\n",
    "\n",
    "[*write your answer here*]\n"
   ]
  },
  {
   "cell_type": "markdown",
   "metadata": {
    "id": "2r8ScQS6_t3t"
   },
   "source": [
    "To see why this is the case, let's draw 1000 sample FT%s from the analytic model, just like we did from the pymc model."
   ]
  },
  {
   "cell_type": "code",
   "execution_count": null,
   "metadata": {
    "id": "lqZEHsqHTQWA"
   },
   "outputs": [],
   "source": [
    "#vizualize 1000 samples from the analytic model.\n",
    "#Recall that analytic_FT = pz.Beta(alpha = alpha_old + 7,beta = beta_old + n - k )\n",
    "#This is beta dist. with the total number of makes and total misses as parameters\n",
    "az.plot_posterior( {'θ' : analytic_FT.rvs(1000)} )"
   ]
  },
  {
   "cell_type": "markdown",
   "metadata": {
    "id": "e3cKD9AA_H5h"
   },
   "source": [
    "**Task12**:\n",
    "\n",
    "List similarities and differences between the pymc model's samples, and the analytic model's samples. Discuss these with at least one other person"
   ]
  },
  {
   "cell_type": "markdown",
   "metadata": {
    "id": "6n8l25N6d7Sf"
   },
   "source": [
    "**Answer12**:\n",
    "\n",
    "[*write your answer here*]"
   ]
  },
  {
   "cell_type": "markdown",
   "metadata": {
    "id": "nq2Ut86e_31a"
   },
   "source": [
    "Now that we have some idea what our fancy pymc model gives us, let's use our it to make predictions."
   ]
  },
  {
   "cell_type": "code",
   "execution_count": null,
   "metadata": {
    "id": "V6_TANgwAhDJ"
   },
   "outputs": [],
   "source": [
    "#The below function needs to know two things in order to make predictions:\n",
    "#-the samples from the posterior; these are stored in idata_FT\n",
    "#-the model that generated those samples, which we called wmby_FT_model\n",
    "# The last input tells the function to store those predictions in idata_FT\n",
    "\n",
    "pm.sample_posterior_predictive(idata_FT, model=wmby_FT_model, extend_inferencedata=True)"
   ]
  },
  {
   "cell_type": "markdown",
   "metadata": {
    "id": "4Ow112GfT0rP"
   },
   "source": [
    "**Task13**:\n",
    "\n",
    "Does our model predict that Wembanyama will make his next free throw?\n",
    "\n",
    "Use the output above.\n",
    "\n",
    "Hints: We need the posterior predictive distribution. Also, what symbol/name did we give our data, our likelihood when we created wmby_FT_model?"
   ]
  },
  {
   "cell_type": "code",
   "execution_count": null,
   "metadata": {
    "id": "jGkZzIrHGD06"
   },
   "outputs": [],
   "source": [
    "#ANSWER13\n",
    "\n",
    "[*write your answer here*]"
   ]
  },
  {
   "cell_type": "markdown",
   "metadata": {
    "id": "D1ILnjH5WMl5"
   },
   "source": [
    "**Answer13**:\n",
    "\n",
    "[*or write your answer here*]"
   ]
  },
  {
   "cell_type": "markdown",
   "metadata": {
    "id": "AJk4qWRiHh3m"
   },
   "source": [
    "###**Predicting  Wemby FT in 2024/2025**\n",
    "\n",
    "Victor Wembanyama played more than 2 games in the NBA last year--and more relevantly to us, he took more than 9 free throws. In fact, he made 292 out of 367 free throws in the 2023/2024 NBA season.\n",
    "\n",
    "\n",
    "As of this writing, the 2024/2025 NBA season has yet to occur, but we can use those 367 FT attempts to generate"
   ]
  },
  {
   "cell_type": "code",
   "execution_count": null,
   "metadata": {
    "id": "NXKw7wsCZ1U8"
   },
   "outputs": [],
   "source": [
    "#Wemby's FTs in the 2023/2024 season, makes then misses\n",
    "FT_data_2324 = np.repeat([1,0], repeats = [292,75])"
   ]
  },
  {
   "cell_type": "code",
   "execution_count": null,
   "metadata": {
    "id": "0Fr5to-kaCc3"
   },
   "outputs": [],
   "source": [
    "with pm.Model() as wmby_FT_2324_model:\n",
    "  #same prior from before based on Euroleague data\n",
    "  θ = pm.Beta('θ' , alpha = 24. , beta = 8.)\n",
    "\n",
    "  #same likelihood, with our stand in for the binomial distribution\n",
    "  #but with the updated data\n",
    "  y = pm.Bernoulli('y', p = θ, observed = FT_data_2324)\n",
    "\n",
    "  #sample from the posterior, 2000 for a more prcise picture later\n",
    "  idata_FT_2324 = pm.sample(2000)"
   ]
  },
  {
   "cell_type": "code",
   "execution_count": null,
   "metadata": {
    "id": "moaOq_GQa0Ch"
   },
   "outputs": [],
   "source": [
    "#vizualize the 2000 samples from the pymc model of the posterior\n",
    "az.plot_posterior(idata_FT_2324)"
   ]
  },
  {
   "cell_type": "code",
   "execution_count": null,
   "metadata": {
    "id": "Au8bNiq_biSm"
   },
   "outputs": [],
   "source": [
    "#Generate the actual predictions for Wemby's next 2000 FTs\n",
    "pm.sample_posterior_predictive(idata_FT_2324, model=wmby_FT_2324_model, extend_inferencedata=True)"
   ]
  },
  {
   "cell_type": "code",
   "execution_count": null,
   "metadata": {
    "id": "xK8OKoRrelzJ"
   },
   "outputs": [],
   "source": [
    "#stack the two MCMC chains together\n",
    "stacked_FT_2324 = az.extract(idata_FT_2324, group=\"posterior_predictive\")"
   ]
  },
  {
   "cell_type": "code",
   "execution_count": null,
   "metadata": {
    "id": "l8fZRrofbtJp"
   },
   "outputs": [],
   "source": [
    "#idata_FT_2324.posterior_predictive.y.to_series().values\n",
    "stacked_FT_2324.sel(sample=0).sel(draw=0).y.to_series().values"
   ]
  },
  {
   "cell_type": "markdown",
   "metadata": {
    "id": "2SSZgVmMhvz2"
   },
   "source": [
    "And there you have it, predictions for Wembanyama's next 367 free throws. We'll check this at the end of the NBA regular season this year, and see how our model did."
   ]
  },
  {
   "cell_type": "markdown",
   "metadata": {
    "id": "Cz3HnJYliGk8"
   },
   "source": [
    "**Task14**:\n",
    "\n",
    "What could we do to improve our model?"
   ]
  },
  {
   "cell_type": "markdown",
   "metadata": {
    "id": "nsqmY5nujNCN"
   },
   "source": [
    "**Answer14**:\n",
    "\n",
    "[*write your answer here*]"
   ]
  },
  {
   "cell_type": "markdown",
   "metadata": {
    "id": "v5fRiXSVjZ23"
   },
   "source": [
    "###**Summary**\n",
    "\n",
    "In this unit, we answered the question: What will Victor Wembanyama's true Free Throw percentage (FT%) be in the NBA?\n",
    "\n",
    "We did this by considering prior knowledge we had about Wembanyama's FT shooting--we landed on his previous FT shooting in Euroleague, although we proposed other valid assumptions.\n",
    "\n",
    "In writing down our assumptions, we found it necceesary to think mathematically about probability and the physical act of FT shooting. This led us to probability density functions (pdf) as a good summary of our knowledge.\n",
    "\n",
    "We noticed that we could alter our assumption by processing new information through with a likelihood, another pdf.\n",
    "\n",
    "We then combined our new information with our prior knowledge by multipying our pdfs. This gave us a way to make a guess post new information, and we called this a posterior.\n",
    "\n",
    "And this posterior *is* our answer. It can give us different precise estimates, like the mean, median, and mode, and gives us a probability for all the values Wembanyama's truw FT% could be.\n",
    "\n",
    "But we didn't stop there! Our analytic solution happened to work out well mathematically, but we want a tool that works nearly everytime.\n",
    "\n",
    "So, we took out a pymc model for a test drive. We played a bit with its many metaphorical knobs and buttons to get predictions for Wembanyama's future FTs.\n",
    "\n",
    "Along the way, we learned that models like pymc guranttee that we will nearly always have access to samples of a posterior--so long as we use our tools correctly.\n",
    "\n",
    "To wrap up this unit, let's end with a final task:\n",
    "\n",
    "\n",
    "\n"
   ]
  },
  {
   "cell_type": "markdown",
   "metadata": {
    "id": "y-i-ZZLLdo3v"
   },
   "source": [
    "**Task15**:\n",
    "\n",
    "What is Victor Wembanyama's true Free Throw percentage (FT%) in the NBA?"
   ]
  },
  {
   "cell_type": "markdown",
   "metadata": {
    "id": "Ez1Cku5zcQOa"
   },
   "source": [
    "**Answer15**:\n",
    "\n",
    "[*write your answer here*]"
   ]
  }
 ],
 "metadata": {
  "colab": {
   "include_colab_link": true,
   "provenance": []
  },
  "kernelspec": {
   "display_name": "Python 3 (ipykernel)",
   "language": "python",
   "name": "python3"
  },
  "language_info": {
   "codemirror_mode": {
    "name": "ipython",
    "version": 3
   },
   "file_extension": ".py",
   "mimetype": "text/x-python",
   "name": "python",
   "nbconvert_exporter": "python",
   "pygments_lexer": "ipython3",
   "version": "3.12.3"
  }
 },
 "nbformat": 4,
 "nbformat_minor": 4
}
