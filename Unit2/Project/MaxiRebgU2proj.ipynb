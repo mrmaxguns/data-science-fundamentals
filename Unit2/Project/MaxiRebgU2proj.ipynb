{
 "cells": [
  {
   "cell_type": "markdown",
   "id": "067fc9e3-09b6-46f0-855d-da9d1891c485",
   "metadata": {
    "editable": true,
    "slideshow": {
     "slide_type": ""
    },
    "tags": []
   },
   "source": [
    "# German Punctuality and the Deutsche Bahn\n",
    "\n",
    "By: Maxim Rebguns"
   ]
  },
  {
   "cell_type": "markdown",
   "id": "358ed3dc-46b0-4366-a2a4-794cdd5505b9",
   "metadata": {
    "editable": true,
    "slideshow": {
     "slide_type": ""
    },
    "tags": []
   },
   "source": [
    "![A white round German train exiting a tunnel surrounded by greenery with overhead electric wires and poles visible](bahn.jpg)\n",
    "\n",
    "*Image by Sebastian Terfloth via Wikimedia Commons*"
   ]
  },
  {
   "cell_type": "markdown",
   "id": "9812192f-b9a5-43da-ae70-d93d6d84bc9b",
   "metadata": {},
   "source": [
    "I stumbled upon a [Kaggle dataset](https://www.kaggle.com/datasets/santiagoravotti/trains-and-delays-deutsche-bahn) titled Trains and Delays Deutsche Bahn and thought it would be interesting, considering the stereotype of Germans being punctual and having an efficient railroad system. Plus, I like trains. Given the context of the data, my goal of this project is to use the Beta-Binomial bayesian model fed with my own assumptions and a likelihood based on the data set to analyze the current state of train delays on German railways."
   ]
  },
  {
   "cell_type": "markdown",
   "id": "21b7c7d9-44e7-4b56-b6ef-8cb0630ad403",
   "metadata": {},
   "source": [
    "## Assumptions\n",
    "\n",
    "Ideally, I would like to understand the prevalence of delays in the Deutsche Bahn. My project is based around a yes-or-no observation: either a train arrives on time or it doesn't. Additionally, I make the assumption that train delays aren't correlated with each other (this is a simplification, since the train network is complex and interconnected, but this relationship is not easily quantifiable). At any time, we can collect data and see how many trains had delays (the Duetsche Bahn makes this information public).\n",
    "\n",
    "My project satisfies the definition of a probability. Whether a train has a delay or doesn't is mutually exclusive. A train cannot have been on time and delayed at the same time. Thus, the probability will be somewhere between 0 and 1.\n",
    "\n",
    "I will ignore all outcomes but delays. In this analysis, I will choose to ignore train station, train model, route, and other factors. This will limit the scope of my analysis."
   ]
  },
  {
   "cell_type": "markdown",
   "id": "e9950d59-4609-4367-bd49-e5f0ab2a90f7",
   "metadata": {},
   "source": [
    "### The Prior Probability\n",
    "\n",
    "We can say that $p(\\theta)$ is the"
   ]
  },
  {
   "cell_type": "markdown",
   "id": "4dcc1b88-e66d-421d-8599-4bee15194715",
   "metadata": {},
   "source": [
    "## Sources\n",
    "\n",
    "- [The Beta-Binomial Bayesian Model](https://www.bayesrulesbook.com/chapter-3.html) – I read this article to understand the model better, but I didn't copy anything directly."
   ]
  },
  {
   "cell_type": "markdown",
   "id": "0837d0d7-9af4-4fa6-b35d-9d0c6d6daa19",
   "metadata": {},
   "source": []
  }
 ],
 "metadata": {
  "kernelspec": {
   "display_name": "Python 3 (ipykernel)",
   "language": "python",
   "name": "python3"
  },
  "language_info": {
   "codemirror_mode": {
    "name": "ipython",
    "version": 3
   },
   "file_extension": ".py",
   "mimetype": "text/x-python",
   "name": "python",
   "nbconvert_exporter": "python",
   "pygments_lexer": "ipython3",
   "version": "3.12.3"
  }
 },
 "nbformat": 4,
 "nbformat_minor": 5
}
