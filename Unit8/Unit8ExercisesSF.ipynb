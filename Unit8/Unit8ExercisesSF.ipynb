{
  "nbformat": 4,
  "nbformat_minor": 0,
  "metadata": {
    "colab": {
      "provenance": [],
      "authorship_tag": "ABX9TyN2Ba7pVkbvNM6L4KncedZ1",
      "include_colab_link": true
    },
    "kernelspec": {
      "name": "python3",
      "display_name": "Python 3"
    },
    "language_info": {
      "name": "python"
    }
  },
  "cells": [
    {
      "cell_type": "markdown",
      "metadata": {
        "id": "view-in-github",
        "colab_type": "text"
      },
      "source": [
        "<a href=\"https://colab.research.google.com/github/thedarredondo/data-science-fundamentals/blob/main/Unit8/Unit8ExercisesSF.ipynb\" target=\"_parent\"><img src=\"https://colab.research.google.com/assets/colab-badge.svg\" alt=\"Open In Colab\"/></a>"
      ]
    },
    {
      "cell_type": "markdown",
      "source": [
        "# Unit 8 Exercises: The Art of BART\n",
        "\n",
        "These exercises are grouped into two parts:\n",
        "\n",
        "- Questions on the nature of decision trees, random forests, and BART models\n",
        "- An oppurtunity to practice implementing and analyzing a BART model.\n",
        "\n",
        "Enjoy!"
      ],
      "metadata": {
        "id": "NwsvoL28fIVf"
      }
    },
    {
      "cell_type": "markdown",
      "source": [
        "## Bartian Theory"
      ],
      "metadata": {
        "id": "3O91lqIHh2jR"
      }
    },
    {
      "cell_type": "markdown",
      "source": [
        "**Task1**:\n",
        "\n",
        "Draw a decision tree--on a physical piece of paper--that predicts how much time you'll spend studying on a given day, using the amount of sleep you got the night before as a predictor.\n",
        "\n",
        "If this seems to easy, then add another variable or two (test tomorrow? activity after school?), and/or increase the depth of your tree.\n",
        "\n",
        "You do not have to show me or turn in your tree to earn credit for this question, although I would like to see your drawing."
      ],
      "metadata": {
        "id": "IEvYMB3tiAik"
      }
    },
    {
      "cell_type": "markdown",
      "source": [
        "**Task2**:\n",
        "\n",
        "What is a decision tree? How do they work?"
      ],
      "metadata": {
        "id": "qAL92TusjVne"
      }
    },
    {
      "cell_type": "markdown",
      "source": [
        "**Task3**:\n",
        "\n",
        "What does the \"depth\" of a decision tree mean?\n",
        "\n",
        "How do I know if a tree is too deep, or not deep enough?"
      ],
      "metadata": {
        "id": "qnEa-WIYlH14"
      }
    },
    {
      "cell_type": "markdown",
      "source": [
        "**Task4:**\n",
        "\n",
        "How are BART models similar and different from a decision tree?"
      ],
      "metadata": {
        "id": "HDR22vp3uXgc"
      }
    },
    {
      "cell_type": "markdown",
      "source": [
        "**Task5**:\n",
        "\n",
        "Why would we use a BART model instead of a decision tree?"
      ],
      "metadata": {
        "id": "8lxcoCI0vkIu"
      }
    },
    {
      "cell_type": "markdown",
      "source": [
        "## Bartian Penguins"
      ],
      "metadata": {
        "id": "GBihX_8tAvgS"
      }
    },
    {
      "cell_type": "markdown",
      "source": [
        "**Task6**:\n",
        "\n",
        "Create a BART model that uses flipper length, bill depth, and bill length to predict body mass in penguins, and make a ppc to check its fit\n",
        "\n",
        "Code for loading the data is below. You'll need to do everything else yourself.\n",
        "\n",
        "Remember to use my notes as a reference, and to copy and paste from them when it makes sense to.\n",
        "\n",
        "Oh, and try a normal likelihood."
      ],
      "metadata": {
        "id": "DixKVSL1w9FJ"
      }
    },
    {
      "cell_type": "code",
      "source": [
        "#drop the incomplete rows from the data\n",
        "url=\"https://raw.githubusercontent.com/thedarredondo/data-science-fundamentals/main/Data/penguins.csv\"\n",
        "penguins = pd.read_csv(url).dropna()"
      ],
      "metadata": {
        "id": "WHwxrrVlyKgz"
      },
      "execution_count": null,
      "outputs": []
    },
    {
      "cell_type": "markdown",
      "source": [
        "**Task7**:\n",
        "\n",
        "Plot flipper length versus body mass,\n",
        "\n",
        "and then plot the posterior predictve from the model over the data.\n",
        "You're going to copy paste the plotting code from the notes, fyi."
      ],
      "metadata": {
        "id": "LdZ9ZKQ8zCje"
      }
    },
    {
      "cell_type": "markdown",
      "source": [
        "**Task8**:\n",
        "\n",
        "Interpret the plot above in context. Do you think it captures the true association between flipper length and body mass in penguins? Why or why not? Make sure to reference specific things you see in the plot."
      ],
      "metadata": {
        "id": "aaJfHSvIzbCC"
      }
    },
    {
      "cell_type": "markdown",
      "source": [
        "**Task9**:\n",
        "\n",
        "Create partial depnedence plots (pdps), individual conditional expectation (ice) plots, and a variable importance plot for the BARTpenguin model."
      ],
      "metadata": {
        "id": "vg8ROtVj09Mn"
      }
    },
    {
      "cell_type": "markdown",
      "source": [
        "**Task10**:\n",
        "\n",
        "Using the above plots, make an argument about which variable(s) is/are most important in predicting body mass in penguins.\n",
        "\n",
        "What is the relationship for each variable to body mass, when you take the other variables into account?\n",
        "\n",
        "Is that relationship complicated by interactions between variables? How do you know?\n",
        "\n",
        "Make sure to reference specific things you see in each plot, to justify your decisions and comments."
      ],
      "metadata": {
        "id": "65fXsQ-R1O69"
      }
    }
  ]
}