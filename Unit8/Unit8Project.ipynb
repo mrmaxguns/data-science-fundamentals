{
 "cells": [
  {
   "cell_type": "markdown",
   "metadata": {
    "colab_type": "text",
    "id": "view-in-github"
   },
   "source": [
    "<a href=\"https://colab.research.google.com/github/thedarredondo/data-science-fundamentals/blob/main/Unit8/Unit8Project.ipynb\" target=\"_parent\"><img src=\"https://colab.research.google.com/assets/colab-badge.svg\" alt=\"Open In Colab\"/></a>"
   ]
  },
  {
   "cell_type": "markdown",
   "metadata": {
    "id": "GkD7Y6hFZdzW"
   },
   "source": [
    "Your file on your github needs to be a a .ipynb file with the first four letters of one first name, the first four letters of one last name, and U6proj.\n",
    "\n",
    "Ex1.\n",
    "\n",
    "A student named Avy Aguacate Avocado Palta will submit a file named \"Avy_AvocU8proj.ipynb\", since she normally just goes by Avy, and, when pressed, reports Avocado as her last name. The \" _ \" after \"Avy\" serves as the fourth \"letter\" in her first name.\n",
    "\n",
    "Ex2.\n",
    "\n",
    "Army Armadillo will submit a file named \"ArmyArmaU8proj.ipynb\""
   ]
  },
  {
   "cell_type": "markdown",
   "metadata": {
    "id": "hIWO5hU4NeAg"
   },
   "source": [
    "# Unit 8 Project: Writing a BARTical\n",
    "\n",
    "**Task**:\n",
    "\n",
    "Two parts:\n",
    "\n",
    "1. Propose a data set that's compatible with a pymc_bart model. I must approve your submission before you move on to part 2.\n",
    "\n",
    "2. Create, analyze, and present BART model, using pymc_bart within the colab environment, on a data set of your choice, with the following conditions:\n",
    "  - your final model must have more than 2 predictors. The intercept term doesn't count as a predictor here (even though technically it is)\n",
    "  - You must argue why your variable selection is justified. You may use either a theoretical or numerical argument. Additionally, you must comment on any potential interactions between your predictor variables.\n",
    "\n"
   ]
  },
  {
   "cell_type": "markdown",
   "metadata": {
    "id": "iG3eGgAnPT6b"
   },
   "source": [
    "Guidlines:\n",
    "\n",
    "- Your data or your model type must be different from any project you've previously done.\n",
    "\n",
    "- You are allowed to copy and paste any code from the notes, including my answer key (AK), without any reference or citations. Same goes for the course textbook, BAP3.\n",
    "\n",
    "- This is an individual project. It is fine if you model the same process as a peer, but your raw data **must** be substantially different. \"Substantially different\" means that I, your instructor, arbitrarily think your data sets are different enough.\n",
    "\n",
    "- Do not look at other student's code/jupyter notebooks. Copying, or copying and pasting, other students code will result in a failing grade. Also, I will tell all the other teachers I know that you cheated.\n",
    "\n",
    "- If you want to know what another student did, ask them--any verbal communication about a project is allowed and encouraged. If you want to see a graphic they made, ask them to sketch a picture of it for you by hand.\n",
    "\n",
    "- Any handwritten communication is also allowed and encouraged, so long as all parties are in the same physical location together. Example: you may sketch out a piece of code while verbally explaining to someone what you did. Do NOT: hand write the code for your entire project, take a picture, and send it to everyone in the course.\n",
    "\n",
    "- If you use someone's code from outside this course (like from the internet, an AI, or your parent), you must ask me if it is ok, and you must cite them in your work. I don't care all they did was to click your space bar one more time: you tell me, and you cite their contribution. You don't need to tell me about or cite verbal or handwritten communication though.\n",
    "\n",
    "- You may use a more complicated model--like something from further along in the course--IF I give you permission.\n",
    "\n",
    "- If you are unsure whether or not something is ok or allowed: ASK BEFORE YOU DO IT.\n",
    "\n",
    "Faliure to adhere to these guidlines will result in a failing grade."
   ]
  },
  {
   "cell_type": "markdown",
   "metadata": {
    "id": "YJPcaPErSNjc"
   },
   "source": [
    "Tips:\n",
    "\n",
    "- Try to pick something that you care about, have knowledge of, experience with, or that you find interesting/cool.\n",
    "\n",
    "- Gather data *before* picking a model or likelihood.\n",
    "\n",
    "-  Use your best idea now; maybe you can look at the context you used in the previous project, and gather different data from it.\n",
    "\n",
    "- Choose a data set with lots of columns, and lots of potential interactions between variables. It'll be more fun, and will make model/variable selection more relevant.\n",
    "\n",
    "- Comment heavily, and explain your steps and thought process with text blocks. This is not only requried, it'll also help you understand what you're doing and what you want to do.\n",
    "\n",
    "- Its ok to pick a data set for which you don't qute understand the context--so long as you think the context is cool.\n"
   ]
  }
 ],
 "metadata": {
  "colab": {
   "authorship_tag": "ABX9TyP2+Ki2PwtArw1zreIblY6o",
   "include_colab_link": true,
   "provenance": []
  },
  "kernelspec": {
   "display_name": "Python 3 (ipykernel)",
   "language": "python",
   "name": "python3"
  },
  "language_info": {
   "codemirror_mode": {
    "name": "ipython",
    "version": 3
   },
   "file_extension": ".py",
   "mimetype": "text/x-python",
   "name": "python",
   "nbconvert_exporter": "python",
   "pygments_lexer": "ipython3",
   "version": "3.12.3"
  }
 },
 "nbformat": 4,
 "nbformat_minor": 4
}
