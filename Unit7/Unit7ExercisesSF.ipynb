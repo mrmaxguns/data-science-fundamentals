{
 "cells": [
  {
   "cell_type": "markdown",
   "metadata": {
    "colab_type": "text",
    "id": "view-in-github"
   },
   "source": [
    "<a href=\"https://colab.research.google.com/github/thedarredondo/data-science-fundamentals/blob/main/Unit7/Unit7ExercisesSF.ipynb\" target=\"_parent\"><img src=\"https://colab.research.google.com/assets/colab-badge.svg\" alt=\"Open In Colab\"/></a>"
   ]
  },
  {
   "cell_type": "markdown",
   "metadata": {
    "id": "nVWnEQSH4us3"
   },
   "source": [
    "# Fitting Curves: Concepts\n",
    "\n",
    "What you'll do:\n",
    "\n",
    "- Answer questions about what a GP is, and its relationship to GLMs and splines.\n",
    "- Practice applying one of: polynomial modeling, b splines, or GPs\n",
    "- You'll get a chance to read about and try to comprehend a more standard implementation of a GP.\n",
    "\n",
    "Have fun!"
   ]
  },
  {
   "cell_type": "markdown",
   "metadata": {
    "id": "dvOGkgka7zwk"
   },
   "source": [
    "## Task1\n",
    "\n",
    "Why would you ever want to include a polynomial element in a model you built? What's the benefit of using polynomials to model?\n",
    "\n",
    "---\n",
    "\n",
    "A linear model is a degree-1 polynomial model. The reason why we would want to use a polynomial is because they are good at approximating relationships in our data. The greater the degree, the more freedom the model has to represent minute nuances in our data. This comes at a tradeoff: the model may overfit, causing it to focus on details in data that do not aid in understanding its relationships."
   ]
  },
  {
   "cell_type": "markdown",
   "metadata": {
    "id": "yoz8Bb-HQaqB"
   },
   "source": [
    "## Task2\n",
    "\n",
    "Why would you ever NOT want to include a polynomial element in a model you built?\n",
    "\n",
    "---\n",
    "\n",
    "If the data can be represented by a simpler model, it would be better to use that to prevent overfitting. ALso, if the model has complex relationships but we are still worried about overfitting, a B-spline could work better. Furthermore, we could use NN's and GP's to model even more powerfully, with the drawback being that these solutions are computationally expensive."
   ]
  },
  {
   "cell_type": "markdown",
   "metadata": {
    "id": "MaLdFTKNatZs"
   },
   "source": [
    "## Task3\n",
    "\n",
    "What's the point of using b splines?\n",
    "\n",
    "---\n",
    "\n",
    "B-splines are good for fitting complicated data. This is an advantage shared with polynomial models, in that they are good at modeling complex relationships. Plus, B-splines have the advantage that they overfit less. The biggest issue with them is that control points influence them, and their amount and location must be chosen."
   ]
  },
  {
   "cell_type": "markdown",
   "metadata": {
    "id": "M51jgnvxeg1o"
   },
   "source": [
    "## Task4\n",
    "\n",
    "Describe what a Gaussian Process is, in your own words. *Don't worry about being correct, just try to explain it to yourself*. I will not grade this question for accuracy.\n",
    "\n",
    "---\n",
    "\n",
    "A gaussian process is, I think, an infinite-variable multivariate Gaussian (Normal) distribution. So, every finite set of random variables of the GP is a multivariate normal distribution. Rather than giving us a single function to fit the data, a Gaussian process gives us many. Also, we can view a gaussian process as a generalization of a neural network where each data point is a knot. Thus, a GP is a powerful predictive tool that comes at the cost of time and memory.\n",
    "\n",
    "Sources:\n",
    "\n",
    "- https://yugeten.github.io/posts/2019/09/GP/\n",
    "- https://handwiki.org/wiki/Gaussian_process"
   ]
  },
  {
   "cell_type": "markdown",
   "metadata": {
    "id": "94o5En1fQVja"
   },
   "source": [
    "## Task5\n",
    "\n",
    "Refit a model to the howell data, using one of the following: polynomial model, b splines, or GPs.\n",
    "Plot the posterior predictive check on a scatter plot\n",
    "\n",
    "You only need to use one. Remember, the simpler the model is, the better (usually).\n",
    "\n",
    "Hint: If you use a polynomial or bspline, try a disdributional model\n",
    "\n",
    "---"
   ]
  },
  {
   "cell_type": "code",
   "execution_count": 1,
   "metadata": {},
   "outputs": [],
   "source": [
    "import pandas as pd\n",
    "import bambi as bmb\n",
    "import matplotlib.pyplot as plt"
   ]
  },
  {
   "cell_type": "code",
   "execution_count": 2,
   "metadata": {},
   "outputs": [
    {
     "data": {
      "text/html": [
       "<div>\n",
       "<style scoped>\n",
       "    .dataframe tbody tr th:only-of-type {\n",
       "        vertical-align: middle;\n",
       "    }\n",
       "\n",
       "    .dataframe tbody tr th {\n",
       "        vertical-align: top;\n",
       "    }\n",
       "\n",
       "    .dataframe thead th {\n",
       "        text-align: right;\n",
       "    }\n",
       "</style>\n",
       "<table border=\"1\" class=\"dataframe\">\n",
       "  <thead>\n",
       "    <tr style=\"text-align: right;\">\n",
       "      <th></th>\n",
       "      <th>height</th>\n",
       "      <th>weight</th>\n",
       "      <th>age</th>\n",
       "      <th>male</th>\n",
       "    </tr>\n",
       "  </thead>\n",
       "  <tbody>\n",
       "    <tr>\n",
       "      <th>0</th>\n",
       "      <td>151.765</td>\n",
       "      <td>47.825606</td>\n",
       "      <td>63.0</td>\n",
       "      <td>1</td>\n",
       "    </tr>\n",
       "    <tr>\n",
       "      <th>1</th>\n",
       "      <td>139.700</td>\n",
       "      <td>36.485807</td>\n",
       "      <td>63.0</td>\n",
       "      <td>0</td>\n",
       "    </tr>\n",
       "    <tr>\n",
       "      <th>2</th>\n",
       "      <td>136.525</td>\n",
       "      <td>31.864838</td>\n",
       "      <td>65.0</td>\n",
       "      <td>0</td>\n",
       "    </tr>\n",
       "    <tr>\n",
       "      <th>3</th>\n",
       "      <td>156.845</td>\n",
       "      <td>53.041914</td>\n",
       "      <td>41.0</td>\n",
       "      <td>1</td>\n",
       "    </tr>\n",
       "    <tr>\n",
       "      <th>4</th>\n",
       "      <td>145.415</td>\n",
       "      <td>41.276872</td>\n",
       "      <td>51.0</td>\n",
       "      <td>0</td>\n",
       "    </tr>\n",
       "    <tr>\n",
       "      <th>...</th>\n",
       "      <td>...</td>\n",
       "      <td>...</td>\n",
       "      <td>...</td>\n",
       "      <td>...</td>\n",
       "    </tr>\n",
       "    <tr>\n",
       "      <th>539</th>\n",
       "      <td>145.415</td>\n",
       "      <td>31.127751</td>\n",
       "      <td>17.0</td>\n",
       "      <td>1</td>\n",
       "    </tr>\n",
       "    <tr>\n",
       "      <th>540</th>\n",
       "      <td>162.560</td>\n",
       "      <td>52.163080</td>\n",
       "      <td>31.0</td>\n",
       "      <td>1</td>\n",
       "    </tr>\n",
       "    <tr>\n",
       "      <th>541</th>\n",
       "      <td>156.210</td>\n",
       "      <td>54.062497</td>\n",
       "      <td>21.0</td>\n",
       "      <td>0</td>\n",
       "    </tr>\n",
       "    <tr>\n",
       "      <th>542</th>\n",
       "      <td>71.120</td>\n",
       "      <td>8.051258</td>\n",
       "      <td>0.0</td>\n",
       "      <td>1</td>\n",
       "    </tr>\n",
       "    <tr>\n",
       "      <th>543</th>\n",
       "      <td>158.750</td>\n",
       "      <td>52.531624</td>\n",
       "      <td>68.0</td>\n",
       "      <td>1</td>\n",
       "    </tr>\n",
       "  </tbody>\n",
       "</table>\n",
       "<p>544 rows × 4 columns</p>\n",
       "</div>"
      ],
      "text/plain": [
       "      height     weight   age  male\n",
       "0    151.765  47.825606  63.0     1\n",
       "1    139.700  36.485807  63.0     0\n",
       "2    136.525  31.864838  65.0     0\n",
       "3    156.845  53.041914  41.0     1\n",
       "4    145.415  41.276872  51.0     0\n",
       "..       ...        ...   ...   ...\n",
       "539  145.415  31.127751  17.0     1\n",
       "540  162.560  52.163080  31.0     1\n",
       "541  156.210  54.062497  21.0     0\n",
       "542   71.120   8.051258   0.0     1\n",
       "543  158.750  52.531624  68.0     1\n",
       "\n",
       "[544 rows x 4 columns]"
      ]
     },
     "execution_count": 2,
     "metadata": {},
     "output_type": "execute_result"
    }
   ],
   "source": [
    "dftask5 = pd.read_csv(\"../Data/howell.csv\"); dftask5"
   ]
  },
  {
   "cell_type": "code",
   "execution_count": 3,
   "metadata": {},
   "outputs": [
    {
     "name": "stderr",
     "output_type": "stream",
     "text": [
      "Initializing NUTS using jitter+adapt_diag...\n",
      "Multiprocess sampling (4 chains in 4 jobs)\n",
      "NUTS: [alpha, Intercept, poly(weight, degree=4)]\n"
     ]
    },
    {
     "data": {
      "application/vnd.jupyter.widget-view+json": {
       "model_id": "fee80a5c8b3647bfa599dfc403366b01",
       "version_major": 2,
       "version_minor": 0
      },
      "text/plain": [
       "Output()"
      ]
     },
     "metadata": {},
     "output_type": "display_data"
    },
    {
     "data": {
      "text/html": [
       "<pre style=\"white-space:pre;overflow-x:auto;line-height:normal;font-family:Menlo,'DejaVu Sans Mono',consolas,'Courier New',monospace\"></pre>\n"
      ],
      "text/plain": []
     },
     "metadata": {},
     "output_type": "display_data"
    },
    {
     "name": "stderr",
     "output_type": "stream",
     "text": [
      "Sampling 4 chains for 1_000 tune and 1_000 draw iterations (4_000 + 4_000 draws total) took 5 seconds.\n",
      "There were 4 divergences after tuning. Increase `target_accept` or reparameterize.\n"
     ]
    }
   ],
   "source": [
    "mtask5 = bmb.Model(\"height ~ poly(weight, degree=4)\", dftask5, family=\"negativebinomial\")\n",
    "idata_mtask5 = mtask5.fit()"
   ]
  },
  {
   "cell_type": "code",
   "execution_count": 4,
   "metadata": {},
   "outputs": [
    {
     "name": "stderr",
     "output_type": "stream",
     "text": [
      "/home/maxim/school/lasa/2024-2025/data-science/data-science-fundamentals/venv/lib/python3.12/site-packages/arviz/rcparams.py:368: FutureWarning: stats.hdi_prob is deprecated since 0.18.0, use stats.ci_prob instead\n",
      "  warnings.warn(\n",
      "Default computed for conditional variable: weight\n"
     ]
    },
    {
     "data": {
      "text/plain": [
       "[<matplotlib.lines.Line2D at 0x7f6d6a8b6690>]"
      ]
     },
     "execution_count": 4,
     "metadata": {},
     "output_type": "execute_result"
    },
    {
     "data": {
      "image/png": "[encoded data removed]",
      "text/plain": [
       "<Figure size 640x480 with 1 Axes>"
      ]
     },
     "metadata": {},
     "output_type": "display_data"
    }
   ],
   "source": [
    "bmb.interpret.plot_predictions(mtask5, idata_mtask5, \"weight\", pps=True)\n",
    "plt.plot(dftask5.weight, dftask5.height, \"C2.\", zorder=-3)"
   ]
  },
  {
   "cell_type": "markdown",
   "metadata": {
    "id": "oYy-Gpzbpm8A",
    "jp-MarkdownHeadingCollapsed": true
   },
   "source": [
    "## Task6\n",
    "\n",
    "Read the article on the pymc website about GP implementation on the Mauna Loa CO$_{2}$ data combined with CO$_{2}$ ice core data from the south pole.\n",
    "[Link here.](https://www.pymc.io/projects/examples/en/latest/gaussian_processes/GP-MaunaLoa2.html)\n",
    "\n",
    "Write down one thing you learned about GPs from reading the article.\n",
    "\n",
    "Note: You probably won't understand anything in this article. The main point of this task is to hammer home that good GP implementations are extremely technical.\n",
    "\n",
    "---\n",
    "\n",
    "GP Models can be tuned with covariance and mean functions to model prior knowledge and incorporate different datasets into a single model. Furthermore, covariance functions can be combined allowing for a lot of flexibility."
   ]
  },
  {
   "cell_type": "markdown",
   "metadata": {
    "id": "T4dngCCrrO_q"
   },
   "source": [
    "## Task7\n",
    "\n",
    "Describe your favorite graph from the article in the previous task. Explain why its your favorite.\n",
    "\n",
    "---\n",
    "\n",
    "![A graph showing past, present, and forecast CO2 measurements with prior, observed, and test data overlaid on top of a curve sampled from the posterior, showing an increasing concave up trend in CO2 levels](favorite-graph.webp)"
   ]
  },
  {
   "cell_type": "markdown",
   "metadata": {},
   "source": [
    "This is my favorite graph because it shows the power of GP models. I think it's really cool that the model can use past data to predict the future. You can tell that it does so quite well, since the test set aligns with the model's predictions. The incorporation of priors and different types of data is a strength of GP models that I would like to explore further."
   ]
  }
 ],
 "metadata": {
  "colab": {
   "authorship_tag": "ABX9TyO5TneXLBLi5Bbqwz9ID6z4",
   "include_colab_link": true,
   "provenance": []
  },
  "kernelspec": {
   "display_name": "Python 3 (ipykernel)",
   "language": "python",
   "name": "python3"
  },
  "language_info": {
   "codemirror_mode": {
    "name": "ipython",
    "version": 3
   },
   "file_extension": ".py",
   "mimetype": "text/x-python",
   "name": "python",
   "nbconvert_exporter": "python",
   "pygments_lexer": "ipython3",
   "version": "3.12.3"
  }
 },
 "nbformat": 4,
 "nbformat_minor": 4
}
