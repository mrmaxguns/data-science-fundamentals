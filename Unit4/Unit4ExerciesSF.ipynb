{
  "nbformat": 4,
  "nbformat_minor": 0,
  "metadata": {
    "colab": {
      "provenance": [],
      "authorship_tag": "ABX9TyNUlitqLN8k/qWy08kNVVcr",
      "include_colab_link": true
    },
    "kernelspec": {
      "name": "python3",
      "display_name": "Python 3"
    },
    "language_info": {
      "name": "python"
    }
  },
  "cells": [
    {
      "cell_type": "markdown",
      "metadata": {
        "id": "view-in-github",
        "colab_type": "text"
      },
      "source": [
        "<a href=\"https://colab.research.google.com/github/thedarredondo/data-science-fundamentals/blob/main/Unit4/Unit4ExerciesSF.ipynb\" target=\"_parent\"><img src=\"https://colab.research.google.com/assets/colab-badge.svg\" alt=\"Open In Colab\"/></a>"
      ]
    },
    {
      "cell_type": "code",
      "execution_count": null,
      "metadata": {
        "id": "5mCgnW7TrYA0"
      },
      "outputs": [],
      "source": [
        "import numpy as np\n",
        "from matplotlib import pyplot as plt\n",
        "import seaborn as sns\n",
        "import pandas as pd\n",
        "import arviz as az\n",
        "import pymc as pm"
      ]
    },
    {
      "cell_type": "markdown",
      "source": [
        "# Unit 4 Exercises: Tinkering Hierarchical Models\n",
        "\n",
        "These exercises are designed to force you to look at the nuances of the models we looked at in class, while exploring some \"what ifs\". There's also some mild data wrangling for you to enjoy at in task6.\n",
        "\n"
      ],
      "metadata": {
        "id": "eXBWkDOftDwv"
      }
    },
    {
      "cell_type": "markdown",
      "source": [
        "**Task1**:\n",
        "\n",
        "Redo the chemical shift hierarchical model, execpt with all Student T  and Half Student T likelihood and priors.\n",
        "\n",
        "Then, compare group posteriors of the normal chem shift model with your new Student T model using a ridge plot."
      ],
      "metadata": {
        "id": "-oz7slAN9O8m"
      }
    },
    {
      "cell_type": "markdown",
      "source": [
        "**Task2**:\n",
        "\n",
        "Run a posterior predictive check for both models. Which seems to fit the data better?"
      ],
      "metadata": {
        "id": "LB0z75bcQK9C"
      }
    },
    {
      "cell_type": "markdown",
      "source": [
        "**Task3**:\n",
        "\n",
        "Redo the soccer model, but this time, assume the groups are independent. This will be a non-hierarchical model."
      ],
      "metadata": {
        "id": "SlQWf6ieGwLT"
      }
    },
    {
      "cell_type": "markdown",
      "source": [
        "**Task4**:\n",
        "\n",
        "Run plot trace and rhat on your inference data object for the non-hierarchical soccer model. How does this compare to the hierarchical model?"
      ],
      "metadata": {
        "id": "_cYMioF1Kv9G"
      }
    },
    {
      "cell_type": "markdown",
      "source": [
        "**Task5**:\n",
        "\n",
        "Plot the posterior of the means for each soccer position in the non-hierarchical model.\n",
        "\n",
        "How do these posteriors compare to the hierarchical model we did in class?"
      ],
      "metadata": {
        "id": "43qYLhu9H59d"
      }
    },
    {
      "cell_type": "markdown",
      "source": [
        "**Task6**:\n",
        "\n",
        "Redo the soccer model as a hierarchical model, but remove all the goalkeepers (GK) from the data. In other words, run a hierarchical model on only the defenders, midfielders, and forwards."
      ],
      "metadata": {
        "id": "gBGXsW65IzwT"
      }
    },
    {
      "cell_type": "markdown",
      "source": [
        "**Task7**:\n",
        "\n",
        "Compare the plot trace and rhat results for the hierarchical model with GKs and without GKs. Then answer the following questions:\n",
        "- Which model was easier for pymc to process?\n",
        "- What do we lose by dropping Gks from the data set? What do we gain?"
      ],
      "metadata": {
        "id": "fcKJ1HhLK_nN"
      }
    }
  ]
}