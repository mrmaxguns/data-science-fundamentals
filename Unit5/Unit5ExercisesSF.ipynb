{
 "cells": [
  {
   "cell_type": "markdown",
   "metadata": {
    "colab_type": "text",
    "id": "view-in-github"
   },
   "source": [
    "<a href=\"https://colab.research.google.com/github/thedarredondo/data-science-fundamentals/blob/main/Unit5/Unit5ExercisesSF.ipynb\" target=\"_parent\"><img src=\"https://colab.research.google.com/assets/colab-badge.svg\" alt=\"Open In Colab\"/></a>"
   ]
  },
  {
   "cell_type": "code",
   "execution_count": 10,
   "metadata": {
    "id": "qs2hoH_5mShq"
   },
   "outputs": [],
   "source": [
    "import math\n",
    "import numpy as np\n",
    "from matplotlib import pyplot as plt\n",
    "import seaborn as sns\n",
    "import pandas as pd\n",
    "import arviz as az\n",
    "import xarray as xr\n",
    "import pymc as pm\n",
    "from scipy.interpolate import PchipInterpolator"
   ]
  },
  {
   "cell_type": "markdown",
   "metadata": {
    "id": "IX5MHHagmoHb"
   },
   "source": [
    "# Unit 5 Exercises: Leverage + Practice with GLMs\n",
    "\n",
    "In these exercises, we'll focus on:\n",
    "- how to recognize high leverage values, and what to do about them.\n",
    "- how to decide when a generalized linear model is better than than an all normal, straight line model\n",
    "\n",
    "We'll start  by looking at the full NBA data set from class, and interogate why I removed so many observations from that data set.\n",
    "\n",
    "We'll finish with another classic data set, some deemographic data from the Kalahari !Kung San people collected by Nancy Howell in Botswana between August 1967 and May 1969."
   ]
  },
  {
   "cell_type": "markdown",
   "metadata": {
    "id": "3yu7iPPawal0"
   },
   "source": [
    "## Leverage\n",
    "\n",
    "Let's take a look at the full basketball data set."
   ]
  },
  {
   "cell_type": "code",
   "execution_count": 2,
   "metadata": {
    "id": "sXWTI13RcC3r"
   },
   "outputs": [],
   "source": [
    "#load the data into a pandas dataframe, and print it\n",
    "url_basketball = 'https://raw.githubusercontent.com/thedarredondo/data-science-fundamentals/main/Data/basketball2324.csv'\n",
    "#I could have put the url string directly into pd.read_csv()\n",
    "basketball = pd.read_csv(url_basketball,dtype={'Pos':'category'})"
   ]
  },
  {
   "cell_type": "markdown",
   "metadata": {
    "id": "LtprSjrGwjE2"
   },
   "source": [
    "Before, we put a minutes restriction on what players we looked at, and removed anyone who never missed a free throw.\n",
    "\n",
    "I've commented out that code, for reference, below. We're going to attempt to run the same analysis without removing any data"
   ]
  },
  {
   "cell_type": "code",
   "execution_count": 3,
   "metadata": {
    "id": "2jPNHW7Gau9J"
   },
   "outputs": [],
   "source": [
    "#only look at players who played more than 400 minutes\n",
    "#basketball = basketball.query('MP > 400')\n",
    "#remove players who never missed a free throw\n",
    "#basketball = basketball.query('`FT%` != 1.0')"
   ]
  },
  {
   "cell_type": "code",
   "execution_count": 4,
   "metadata": {
    "id": "3VCNwBwjcU2r"
   },
   "outputs": [
    {
     "data": {
      "text/html": [
       "<div>\n",
       "<style scoped>\n",
       "    .dataframe tbody tr th:only-of-type {\n",
       "        vertical-align: middle;\n",
       "    }\n",
       "\n",
       "    .dataframe tbody tr th {\n",
       "        vertical-align: top;\n",
       "    }\n",
       "\n",
       "    .dataframe thead th {\n",
       "        text-align: right;\n",
       "    }\n",
       "</style>\n",
       "<table border=\"1\" class=\"dataframe\">\n",
       "  <thead>\n",
       "    <tr style=\"text-align: right;\">\n",
       "      <th></th>\n",
       "      <th>Player</th>\n",
       "      <th>Pos</th>\n",
       "      <th>Age</th>\n",
       "      <th>Tm</th>\n",
       "      <th>G</th>\n",
       "      <th>GS</th>\n",
       "      <th>MP</th>\n",
       "      <th>FG</th>\n",
       "      <th>FGA</th>\n",
       "      <th>FG%</th>\n",
       "      <th>...</th>\n",
       "      <th>ORB</th>\n",
       "      <th>DRB</th>\n",
       "      <th>TRB</th>\n",
       "      <th>AST</th>\n",
       "      <th>STL</th>\n",
       "      <th>BLK</th>\n",
       "      <th>TOV</th>\n",
       "      <th>PF</th>\n",
       "      <th>PTS</th>\n",
       "      <th>Player-additional</th>\n",
       "    </tr>\n",
       "  </thead>\n",
       "  <tbody>\n",
       "    <tr>\n",
       "      <th>0</th>\n",
       "      <td>Precious Achiuwa</td>\n",
       "      <td>PF-C</td>\n",
       "      <td>24</td>\n",
       "      <td>TOT</td>\n",
       "      <td>74</td>\n",
       "      <td>18</td>\n",
       "      <td>1624</td>\n",
       "      <td>235</td>\n",
       "      <td>469</td>\n",
       "      <td>0.501</td>\n",
       "      <td>...</td>\n",
       "      <td>191</td>\n",
       "      <td>296</td>\n",
       "      <td>487</td>\n",
       "      <td>97</td>\n",
       "      <td>46</td>\n",
       "      <td>68</td>\n",
       "      <td>83</td>\n",
       "      <td>143</td>\n",
       "      <td>565</td>\n",
       "      <td>achiupr01</td>\n",
       "    </tr>\n",
       "    <tr>\n",
       "      <th>1</th>\n",
       "      <td>Bam Adebayo</td>\n",
       "      <td>C</td>\n",
       "      <td>26</td>\n",
       "      <td>MIA</td>\n",
       "      <td>71</td>\n",
       "      <td>71</td>\n",
       "      <td>2416</td>\n",
       "      <td>530</td>\n",
       "      <td>1017</td>\n",
       "      <td>0.521</td>\n",
       "      <td>...</td>\n",
       "      <td>159</td>\n",
       "      <td>578</td>\n",
       "      <td>737</td>\n",
       "      <td>278</td>\n",
       "      <td>81</td>\n",
       "      <td>66</td>\n",
       "      <td>162</td>\n",
       "      <td>159</td>\n",
       "      <td>1367</td>\n",
       "      <td>adebaba01</td>\n",
       "    </tr>\n",
       "    <tr>\n",
       "      <th>2</th>\n",
       "      <td>Ochai Agbaji</td>\n",
       "      <td>SG</td>\n",
       "      <td>23</td>\n",
       "      <td>TOT</td>\n",
       "      <td>78</td>\n",
       "      <td>28</td>\n",
       "      <td>1641</td>\n",
       "      <td>178</td>\n",
       "      <td>433</td>\n",
       "      <td>0.411</td>\n",
       "      <td>...</td>\n",
       "      <td>74</td>\n",
       "      <td>142</td>\n",
       "      <td>216</td>\n",
       "      <td>83</td>\n",
       "      <td>47</td>\n",
       "      <td>44</td>\n",
       "      <td>64</td>\n",
       "      <td>117</td>\n",
       "      <td>455</td>\n",
       "      <td>agbajoc01</td>\n",
       "    </tr>\n",
       "    <tr>\n",
       "      <th>3</th>\n",
       "      <td>Santi Aldama</td>\n",
       "      <td>PF</td>\n",
       "      <td>23</td>\n",
       "      <td>MEM</td>\n",
       "      <td>61</td>\n",
       "      <td>35</td>\n",
       "      <td>1618</td>\n",
       "      <td>247</td>\n",
       "      <td>568</td>\n",
       "      <td>0.435</td>\n",
       "      <td>...</td>\n",
       "      <td>72</td>\n",
       "      <td>280</td>\n",
       "      <td>352</td>\n",
       "      <td>138</td>\n",
       "      <td>43</td>\n",
       "      <td>54</td>\n",
       "      <td>69</td>\n",
       "      <td>89</td>\n",
       "      <td>654</td>\n",
       "      <td>aldamsa01</td>\n",
       "    </tr>\n",
       "    <tr>\n",
       "      <th>4</th>\n",
       "      <td>Nickeil Alexander-Walker</td>\n",
       "      <td>SG</td>\n",
       "      <td>25</td>\n",
       "      <td>MIN</td>\n",
       "      <td>82</td>\n",
       "      <td>20</td>\n",
       "      <td>1921</td>\n",
       "      <td>236</td>\n",
       "      <td>538</td>\n",
       "      <td>0.439</td>\n",
       "      <td>...</td>\n",
       "      <td>35</td>\n",
       "      <td>132</td>\n",
       "      <td>167</td>\n",
       "      <td>204</td>\n",
       "      <td>64</td>\n",
       "      <td>42</td>\n",
       "      <td>76</td>\n",
       "      <td>143</td>\n",
       "      <td>655</td>\n",
       "      <td>alexani01</td>\n",
       "    </tr>\n",
       "    <tr>\n",
       "      <th>...</th>\n",
       "      <td>...</td>\n",
       "      <td>...</td>\n",
       "      <td>...</td>\n",
       "      <td>...</td>\n",
       "      <td>...</td>\n",
       "      <td>...</td>\n",
       "      <td>...</td>\n",
       "      <td>...</td>\n",
       "      <td>...</td>\n",
       "      <td>...</td>\n",
       "      <td>...</td>\n",
       "      <td>...</td>\n",
       "      <td>...</td>\n",
       "      <td>...</td>\n",
       "      <td>...</td>\n",
       "      <td>...</td>\n",
       "      <td>...</td>\n",
       "      <td>...</td>\n",
       "      <td>...</td>\n",
       "      <td>...</td>\n",
       "      <td>...</td>\n",
       "    </tr>\n",
       "    <tr>\n",
       "      <th>567</th>\n",
       "      <td>Thaddeus Young</td>\n",
       "      <td>PF</td>\n",
       "      <td>35</td>\n",
       "      <td>TOT</td>\n",
       "      <td>33</td>\n",
       "      <td>6</td>\n",
       "      <td>439</td>\n",
       "      <td>65</td>\n",
       "      <td>108</td>\n",
       "      <td>0.602</td>\n",
       "      <td>...</td>\n",
       "      <td>46</td>\n",
       "      <td>57</td>\n",
       "      <td>103</td>\n",
       "      <td>57</td>\n",
       "      <td>23</td>\n",
       "      <td>5</td>\n",
       "      <td>15</td>\n",
       "      <td>49</td>\n",
       "      <td>137</td>\n",
       "      <td>youngth01</td>\n",
       "    </tr>\n",
       "    <tr>\n",
       "      <th>568</th>\n",
       "      <td>Trae Young</td>\n",
       "      <td>PG</td>\n",
       "      <td>25</td>\n",
       "      <td>ATL</td>\n",
       "      <td>54</td>\n",
       "      <td>54</td>\n",
       "      <td>1942</td>\n",
       "      <td>433</td>\n",
       "      <td>1008</td>\n",
       "      <td>0.430</td>\n",
       "      <td>...</td>\n",
       "      <td>23</td>\n",
       "      <td>126</td>\n",
       "      <td>149</td>\n",
       "      <td>583</td>\n",
       "      <td>72</td>\n",
       "      <td>11</td>\n",
       "      <td>235</td>\n",
       "      <td>109</td>\n",
       "      <td>1389</td>\n",
       "      <td>youngtr01</td>\n",
       "    </tr>\n",
       "    <tr>\n",
       "      <th>569</th>\n",
       "      <td>Omer Yurtseven</td>\n",
       "      <td>C</td>\n",
       "      <td>25</td>\n",
       "      <td>UTA</td>\n",
       "      <td>48</td>\n",
       "      <td>12</td>\n",
       "      <td>545</td>\n",
       "      <td>99</td>\n",
       "      <td>184</td>\n",
       "      <td>0.538</td>\n",
       "      <td>...</td>\n",
       "      <td>72</td>\n",
       "      <td>136</td>\n",
       "      <td>208</td>\n",
       "      <td>29</td>\n",
       "      <td>8</td>\n",
       "      <td>18</td>\n",
       "      <td>37</td>\n",
       "      <td>52</td>\n",
       "      <td>222</td>\n",
       "      <td>yurtsom01</td>\n",
       "    </tr>\n",
       "    <tr>\n",
       "      <th>570</th>\n",
       "      <td>Cody Zeller</td>\n",
       "      <td>C</td>\n",
       "      <td>31</td>\n",
       "      <td>NOP</td>\n",
       "      <td>43</td>\n",
       "      <td>0</td>\n",
       "      <td>320</td>\n",
       "      <td>26</td>\n",
       "      <td>62</td>\n",
       "      <td>0.419</td>\n",
       "      <td>...</td>\n",
       "      <td>48</td>\n",
       "      <td>64</td>\n",
       "      <td>112</td>\n",
       "      <td>39</td>\n",
       "      <td>9</td>\n",
       "      <td>5</td>\n",
       "      <td>16</td>\n",
       "      <td>45</td>\n",
       "      <td>76</td>\n",
       "      <td>zelleco01</td>\n",
       "    </tr>\n",
       "    <tr>\n",
       "      <th>571</th>\n",
       "      <td>Ivica Zubac</td>\n",
       "      <td>C</td>\n",
       "      <td>26</td>\n",
       "      <td>LAC</td>\n",
       "      <td>68</td>\n",
       "      <td>68</td>\n",
       "      <td>1794</td>\n",
       "      <td>337</td>\n",
       "      <td>519</td>\n",
       "      <td>0.649</td>\n",
       "      <td>...</td>\n",
       "      <td>196</td>\n",
       "      <td>430</td>\n",
       "      <td>626</td>\n",
       "      <td>93</td>\n",
       "      <td>22</td>\n",
       "      <td>83</td>\n",
       "      <td>79</td>\n",
       "      <td>180</td>\n",
       "      <td>794</td>\n",
       "      <td>zubaciv01</td>\n",
       "    </tr>\n",
       "  </tbody>\n",
       "</table>\n",
       "<p>572 rows × 30 columns</p>\n",
       "</div>"
      ],
      "text/plain": [
       "                       Player   Pos  Age   Tm   G  GS    MP   FG   FGA    FG%  \\\n",
       "0            Precious Achiuwa  PF-C   24  TOT  74  18  1624  235   469  0.501   \n",
       "1                 Bam Adebayo     C   26  MIA  71  71  2416  530  1017  0.521   \n",
       "2                Ochai Agbaji    SG   23  TOT  78  28  1641  178   433  0.411   \n",
       "3                Santi Aldama    PF   23  MEM  61  35  1618  247   568  0.435   \n",
       "4    Nickeil Alexander-Walker    SG   25  MIN  82  20  1921  236   538  0.439   \n",
       "..                        ...   ...  ...  ...  ..  ..   ...  ...   ...    ...   \n",
       "567            Thaddeus Young    PF   35  TOT  33   6   439   65   108  0.602   \n",
       "568                Trae Young    PG   25  ATL  54  54  1942  433  1008  0.430   \n",
       "569            Omer Yurtseven     C   25  UTA  48  12   545   99   184  0.538   \n",
       "570               Cody Zeller     C   31  NOP  43   0   320   26    62  0.419   \n",
       "571               Ivica Zubac     C   26  LAC  68  68  1794  337   519  0.649   \n",
       "\n",
       "     ...  ORB  DRB  TRB  AST  STL  BLK  TOV   PF   PTS  Player-additional  \n",
       "0    ...  191  296  487   97   46   68   83  143   565          achiupr01  \n",
       "1    ...  159  578  737  278   81   66  162  159  1367          adebaba01  \n",
       "2    ...   74  142  216   83   47   44   64  117   455          agbajoc01  \n",
       "3    ...   72  280  352  138   43   54   69   89   654          aldamsa01  \n",
       "4    ...   35  132  167  204   64   42   76  143   655          alexani01  \n",
       "..   ...  ...  ...  ...  ...  ...  ...  ...  ...   ...                ...  \n",
       "567  ...   46   57  103   57   23    5   15   49   137          youngth01  \n",
       "568  ...   23  126  149  583   72   11  235  109  1389          youngtr01  \n",
       "569  ...   72  136  208   29    8   18   37   52   222          yurtsom01  \n",
       "570  ...   48   64  112   39    9    5   16   45    76          zelleco01  \n",
       "571  ...  196  430  626   93   22   83   79  180   794          zubaciv01  \n",
       "\n",
       "[572 rows x 30 columns]"
      ]
     },
     "execution_count": 4,
     "metadata": {},
     "output_type": "execute_result"
    }
   ],
   "source": [
    "basketball"
   ]
  },
  {
   "cell_type": "markdown",
   "metadata": {
    "id": "scVQqYh4zxvn"
   },
   "source": [
    "### Task 1\n",
    "\n",
    "Make a scatter plot with FT% of each player on the horizontal axis and FG% on the vertical axis.\n",
    "\n",
    "What patterns do you notice? Why do you think they are there?"
   ]
  },
  {
   "cell_type": "code",
   "execution_count": 5,
   "metadata": {},
   "outputs": [
    {
     "data": {
      "text/plain": [
       "<Axes: xlabel='FT%', ylabel='FG%'>"
      ]
     },
     "execution_count": 5,
     "metadata": {},
     "output_type": "execute_result"
    },
    {
     "data": {
      "image/png": "[encoded data removed]",
      "text/plain": [
       "<Figure size 640x480 with 1 Axes>"
      ]
     },
     "metadata": {},
     "output_type": "display_data"
    }
   ],
   "source": [
    "basketball.plot(kind=\"scatter\", x=\"FT%\", y=\"FG%\")"
   ]
  },
  {
   "cell_type": "markdown",
   "metadata": {},
   "source": [
    "There seem to be distinct sets of values with varying FG% that have an FT% of exactly 0.0, 0.5, or 1.0.\n",
    "\n",
    "The 0.0 values could be explained by players who never get to make free throws due to their role on the team. Alternately, these could be players that haven't played long enough to get a chance at a free throw, or have gotten few chances, and missed oll of them.\n",
    "\n",
    "The 50% and 100% values are more puzzling, because it doesn't make sense that many players would have an exact free throw percentage, or have never missed a free throw. This is likely caused by new players, who have only done 1 or 2 free throws, which would result in cutoffs of 0.0, 0.5, and 1.0."
   ]
  },
  {
   "cell_type": "markdown",
   "metadata": {
    "id": "uXM7Ahxdyxc4"
   },
   "source": [
    "### Task 2\n",
    "\n",
    "Make a scatter plot with FT% on the horizontal axis and FG% on the vertical axis. Do this for each each Position in the data set.\n",
    "\n",
    "Pay special attention to the plots for C and PF."
   ]
  },
  {
   "cell_type": "code",
   "execution_count": 25,
   "metadata": {},
   "outputs": [
    {
     "name": "stdout",
     "output_type": "stream",
     "text": [
      "12\n"
     ]
    }
   ],
   "source": [
    "print(len(basketball[\"Pos\"].cat.categories))"
   ]
  },
  {
   "cell_type": "code",
   "execution_count": 33,
   "metadata": {},
   "outputs": [
    {
     "data": {
      "image/png": "[encoded data removed]",
      "text/plain": [
       "<Figure size 640x480 with 12 Axes>"
      ]
     },
     "metadata": {},
     "output_type": "display_data"
    }
   ],
   "source": [
    "# (Adapted from my Unit 4 Project)\n",
    "fig, axes = plt.subplots(nrows=3, ncols=4, sharex=True, sharey=True)\n",
    "fig.tight_layout()\n",
    "\n",
    "for i, pos in enumerate(basketball[\"Pos\"].cat.categories):\n",
    "    ax = axes[math.floor(i / 4)][i % 4]\n",
    "    ax.set_title(pos)\n",
    "    basketball[basketball[\"Pos\"] == pos].plot(kind=\"scatter\", ax=ax, x=\"FT%\", y=\"FG%\")"
   ]
  },
  {
   "cell_type": "markdown",
   "metadata": {
    "id": "3UpbQBW91W0y"
   },
   "source": [
    "### Task 3\n",
    "\n",
    "Originally, I was going to get you to create and run an individual linear regression model for each of the positions.\n",
    "\n",
    "But I couldn't even get model to run.\n",
    "\n",
    "Explain why a linear regression model won't run on the full dataset. HInt: look at the graphs you made above, and compare and contrast them to the ones from class.\n",
    "\n",
    "Or: if you do what I could not and get a linear regression model to run on the full data set, I'll give you full credit and a high five."
   ]
  },
  {
   "cell_type": "markdown",
   "metadata": {},
   "source": [
    "The issue is the dataset. I identified three strange lines on the graph with values at exactly 0.0, 0.5, and 1.0. They break a linear relationship in the data because the points have the same x-value but very varying y-values, which would make it harder to determine a slope for the graph. These influential data points contradict the relationship in the rest of the data, which seems to indicate a general negative trend. Thus, the model might break due to this inconsistency."
   ]
  },
  {
   "cell_type": "markdown",
   "metadata": {
    "id": "DJYIsRMRw8PN"
   },
   "source": [
    "## From Linear Model to Generalized Linear Model\n",
    "\n",
    "You'll now fit a linear regression on the height and weight for people or the Kalahari !Kung San people. Height will be the predictor and weight will be the predicted."
   ]
  },
  {
   "cell_type": "markdown",
   "metadata": {
    "id": "4JEGh9v9AATb"
   },
   "source": [
    "Here's the raw data."
   ]
  },
  {
   "cell_type": "code",
   "execution_count": 34,
   "metadata": {
    "id": "mv2PjhETn24x"
   },
   "outputs": [],
   "source": [
    "#downloads the data from my github\n",
    "howell = pd.read_csv('https://raw.githubusercontent.com/thedarredondo/data-science-fundamentals/main/Data/howell.csv')"
   ]
  },
  {
   "cell_type": "code",
   "execution_count": 35,
   "metadata": {
    "id": "7tn9yfrC2Wc-"
   },
   "outputs": [
    {
     "data": {
      "text/html": [
       "<div>\n",
       "<style scoped>\n",
       "    .dataframe tbody tr th:only-of-type {\n",
       "        vertical-align: middle;\n",
       "    }\n",
       "\n",
       "    .dataframe tbody tr th {\n",
       "        vertical-align: top;\n",
       "    }\n",
       "\n",
       "    .dataframe thead th {\n",
       "        text-align: right;\n",
       "    }\n",
       "</style>\n",
       "<table border=\"1\" class=\"dataframe\">\n",
       "  <thead>\n",
       "    <tr style=\"text-align: right;\">\n",
       "      <th></th>\n",
       "      <th>height</th>\n",
       "      <th>weight</th>\n",
       "      <th>age</th>\n",
       "      <th>male</th>\n",
       "    </tr>\n",
       "  </thead>\n",
       "  <tbody>\n",
       "    <tr>\n",
       "      <th>0</th>\n",
       "      <td>151.765</td>\n",
       "      <td>47.825606</td>\n",
       "      <td>63.0</td>\n",
       "      <td>1</td>\n",
       "    </tr>\n",
       "    <tr>\n",
       "      <th>1</th>\n",
       "      <td>139.700</td>\n",
       "      <td>36.485807</td>\n",
       "      <td>63.0</td>\n",
       "      <td>0</td>\n",
       "    </tr>\n",
       "    <tr>\n",
       "      <th>2</th>\n",
       "      <td>136.525</td>\n",
       "      <td>31.864838</td>\n",
       "      <td>65.0</td>\n",
       "      <td>0</td>\n",
       "    </tr>\n",
       "    <tr>\n",
       "      <th>3</th>\n",
       "      <td>156.845</td>\n",
       "      <td>53.041914</td>\n",
       "      <td>41.0</td>\n",
       "      <td>1</td>\n",
       "    </tr>\n",
       "    <tr>\n",
       "      <th>4</th>\n",
       "      <td>145.415</td>\n",
       "      <td>41.276872</td>\n",
       "      <td>51.0</td>\n",
       "      <td>0</td>\n",
       "    </tr>\n",
       "    <tr>\n",
       "      <th>...</th>\n",
       "      <td>...</td>\n",
       "      <td>...</td>\n",
       "      <td>...</td>\n",
       "      <td>...</td>\n",
       "    </tr>\n",
       "    <tr>\n",
       "      <th>539</th>\n",
       "      <td>145.415</td>\n",
       "      <td>31.127751</td>\n",
       "      <td>17.0</td>\n",
       "      <td>1</td>\n",
       "    </tr>\n",
       "    <tr>\n",
       "      <th>540</th>\n",
       "      <td>162.560</td>\n",
       "      <td>52.163080</td>\n",
       "      <td>31.0</td>\n",
       "      <td>1</td>\n",
       "    </tr>\n",
       "    <tr>\n",
       "      <th>541</th>\n",
       "      <td>156.210</td>\n",
       "      <td>54.062497</td>\n",
       "      <td>21.0</td>\n",
       "      <td>0</td>\n",
       "    </tr>\n",
       "    <tr>\n",
       "      <th>542</th>\n",
       "      <td>71.120</td>\n",
       "      <td>8.051258</td>\n",
       "      <td>0.0</td>\n",
       "      <td>1</td>\n",
       "    </tr>\n",
       "    <tr>\n",
       "      <th>543</th>\n",
       "      <td>158.750</td>\n",
       "      <td>52.531624</td>\n",
       "      <td>68.0</td>\n",
       "      <td>1</td>\n",
       "    </tr>\n",
       "  </tbody>\n",
       "</table>\n",
       "<p>544 rows × 4 columns</p>\n",
       "</div>"
      ],
      "text/plain": [
       "      height     weight   age  male\n",
       "0    151.765  47.825606  63.0     1\n",
       "1    139.700  36.485807  63.0     0\n",
       "2    136.525  31.864838  65.0     0\n",
       "3    156.845  53.041914  41.0     1\n",
       "4    145.415  41.276872  51.0     0\n",
       "..       ...        ...   ...   ...\n",
       "539  145.415  31.127751  17.0     1\n",
       "540  162.560  52.163080  31.0     1\n",
       "541  156.210  54.062497  21.0     0\n",
       "542   71.120   8.051258   0.0     1\n",
       "543  158.750  52.531624  68.0     1\n",
       "\n",
       "[544 rows x 4 columns]"
      ]
     },
     "execution_count": 35,
     "metadata": {},
     "output_type": "execute_result"
    }
   ],
   "source": [
    "howell"
   ]
  },
  {
   "cell_type": "markdown",
   "metadata": {
    "id": "n5wfHiR_AELA"
   },
   "source": [
    "### Task 4\n",
    "\n",
    "Make a scatter plot of height versus weight for the howell data set."
   ]
  },
  {
   "cell_type": "code",
   "execution_count": 37,
   "metadata": {},
   "outputs": [
    {
     "data": {
      "text/plain": [
       "<Axes: xlabel='weight', ylabel='height'>"
      ]
     },
     "execution_count": 37,
     "metadata": {},
     "output_type": "execute_result"
    },
    {
     "data": {
      "image/png": "[encoded data removed]",
      "text/plain": [
       "<Figure size 640x480 with 1 Axes>"
      ]
     },
     "metadata": {},
     "output_type": "display_data"
    }
   ],
   "source": [
    "howell.plot(kind=\"scatter\", x=\"weight\", y=\"height\")"
   ]
  },
  {
   "cell_type": "markdown",
   "metadata": {
    "id": "CzAWd8VRAY7X"
   },
   "source": [
    "### Task5\n",
    "\n",
    "Create and run a stright line linear regression model on the howell data set with height predicting weight. Visualize your model and its posterior."
   ]
  },
  {
   "cell_type": "markdown",
   "metadata": {},
   "source": []
  },
  {
   "cell_type": "markdown",
   "metadata": {
    "id": "QCkwI3ZIG33g"
   },
   "source": [
    "**Task6**:\n",
    "\n",
    "Run a posterior predictive check for model_howell, plot the posterior predictive distribution, and comment on the fit of the model you made in Task5."
   ]
  },
  {
   "cell_type": "markdown",
   "metadata": {
    "id": "XoJfe4CJJc1R"
   },
   "source": [
    "**Task7**:\n",
    "\n",
    "Create and visualize the posterior of a generalized linear model that improves the on the fit of the model you made in Task5."
   ]
  },
  {
   "cell_type": "markdown",
   "metadata": {
    "id": "IuNulGsbUbCt"
   },
   "source": [
    "**Task8**:\n",
    "\n",
    "Run a posterior predictive check, and visualize the posterior predictive distribution, for the model you made in Task7.\n",
    "\n",
    "Comment on the fit."
   ]
  }
 ],
 "metadata": {
  "colab": {
   "authorship_tag": "ABX9TyOF1VTUvQLBuwAR8iQ8PlIN",
   "include_colab_link": true,
   "provenance": []
  },
  "kernelspec": {
   "display_name": "Python 3 (ipykernel)",
   "language": "python",
   "name": "python3"
  },
  "language_info": {
   "codemirror_mode": {
    "name": "ipython",
    "version": 3
   },
   "file_extension": ".py",
   "mimetype": "text/x-python",
   "name": "python",
   "nbconvert_exporter": "python",
   "pygments_lexer": "ipython3",
   "version": "3.12.3"
  }
 },
 "nbformat": 4,
 "nbformat_minor": 4
}
