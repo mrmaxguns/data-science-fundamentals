{
  "nbformat": 4,
  "nbformat_minor": 0,
  "metadata": {
    "colab": {
      "provenance": [],
      "authorship_tag": "ABX9TyOF1VTUvQLBuwAR8iQ8PlIN",
      "include_colab_link": true
    },
    "kernelspec": {
      "name": "python3",
      "display_name": "Python 3"
    },
    "language_info": {
      "name": "python"
    }
  },
  "cells": [
    {
      "cell_type": "markdown",
      "metadata": {
        "id": "view-in-github",
        "colab_type": "text"
      },
      "source": [
        "<a href=\"https://colab.research.google.com/github/thedarredondo/data-science-fundamentals/blob/main/Unit5/Unit5ExercisesSF.ipynb\" target=\"_parent\"><img src=\"https://colab.research.google.com/assets/colab-badge.svg\" alt=\"Open In Colab\"/></a>"
      ]
    },
    {
      "cell_type": "code",
      "execution_count": null,
      "metadata": {
        "id": "qs2hoH_5mShq"
      },
      "outputs": [],
      "source": [
        "import numpy as np\n",
        "from matplotlib import pyplot as plt\n",
        "import seaborn as sns\n",
        "import pandas as pd\n",
        "import arviz as az\n",
        "import xarray as xr\n",
        "import pymc as pm\n",
        "from scipy.interpolate import PchipInterpolator"
      ]
    },
    {
      "cell_type": "markdown",
      "source": [
        "# Unit 5 Exercises: Leverage + Practice with GLMs\n",
        "\n",
        "In these exercises, we'll focus on:\n",
        "- how to recognize high leverage values, and what to do about them.\n",
        "- how to decide when a generalized linear model is better than than an all normal, straight line model\n",
        "\n",
        "We'll start  by looking at the full NBA data set from class, and interogate why I removed so many observations from that data set.\n",
        "\n",
        "We'll finish with another classic data set, some deemographic data from the Kalahari !Kung San people collected by Nancy Howell in Botswana between August 1967 and May 1969."
      ],
      "metadata": {
        "id": "IX5MHHagmoHb"
      }
    },
    {
      "cell_type": "markdown",
      "source": [
        "##Leverage\n",
        "\n",
        "Let's take a look at the full basketball data set."
      ],
      "metadata": {
        "id": "3yu7iPPawal0"
      }
    },
    {
      "cell_type": "code",
      "source": [
        "#load the data into a pandas dataframe, and print it\n",
        "url_basketball = 'https://raw.githubusercontent.com/thedarredondo/data-science-fundamentals/main/Data/basketball2324.csv'\n",
        "#I could have put the url string directly into pd.read_csv()\n",
        "basketball = pd.read_csv(url_basketball,dtype={'Pos':'category'})"
      ],
      "metadata": {
        "id": "sXWTI13RcC3r"
      },
      "execution_count": null,
      "outputs": []
    },
    {
      "cell_type": "markdown",
      "source": [
        "Before, we put a minutes restriction on what players we looked at, and removed anyone who never missed a free throw.\n",
        "\n",
        "I've commented out that code, for reference, below. We're going to attempt to run the same analysis without removing any data"
      ],
      "metadata": {
        "id": "LtprSjrGwjE2"
      }
    },
    {
      "cell_type": "code",
      "source": [
        "#only look at players who played more than 400 minutes\n",
        "#basketball = basketball.query('MP > 400')\n",
        "#remove players who never missed a free throw\n",
        "#basketball = basketball.query('`FT%` != 1.0')"
      ],
      "metadata": {
        "id": "2jPNHW7Gau9J"
      },
      "execution_count": null,
      "outputs": []
    },
    {
      "cell_type": "code",
      "source": [
        "basketball"
      ],
      "metadata": {
        "id": "3VCNwBwjcU2r"
      },
      "execution_count": null,
      "outputs": []
    },
    {
      "cell_type": "markdown",
      "source": [
        "**Task1**:\n",
        "\n",
        "Make a scatter plot with FT% of each player on the horizontal axis and FG% on the vertical axis.\n",
        "\n",
        "What patterns do you notice? Why do you think they are there?"
      ],
      "metadata": {
        "id": "scVQqYh4zxvn"
      }
    },
    {
      "cell_type": "markdown",
      "source": [
        "**Task2**:\n",
        "\n",
        "Make a scatter plot with FT% on the horizontal axis and FG% on the vertical axis. Do this for each each Position in the data set.\n",
        "\n",
        "Pay special attention to the plots for C and PF."
      ],
      "metadata": {
        "id": "uXM7Ahxdyxc4"
      }
    },
    {
      "cell_type": "markdown",
      "source": [
        "**Task3**:\n",
        "\n",
        "Originally, I was going to get you to create and run an individual linear regression model for each of the positions.\n",
        "\n",
        "But I couldn't even get model to run.\n",
        "\n",
        "Explain why a linear regression model won't run on the full dataset. HInt: look at the graphs you made above, and compare and contrast them to the ones from class.\n",
        "\n",
        "Or: if you do what I could not and get a linear regression model to run on the full data set, I'll give you full credit and a high five."
      ],
      "metadata": {
        "id": "3UpbQBW91W0y"
      }
    },
    {
      "cell_type": "markdown",
      "source": [
        "## From Linear Model to Generalized Linear Model\n",
        "\n",
        "You'll now fit a linear regression on the height and weight for people or the Kalahari !Kung San people. Height will be the predictor and weight will be the predicted."
      ],
      "metadata": {
        "id": "DJYIsRMRw8PN"
      }
    },
    {
      "cell_type": "markdown",
      "source": [
        "Here's the raw data."
      ],
      "metadata": {
        "id": "4JEGh9v9AATb"
      }
    },
    {
      "cell_type": "code",
      "source": [
        "#downloads the data from my github\n",
        "howell = pd.read_csv('https://raw.githubusercontent.com/thedarredondo/data-science-fundamentals/main/Data/howell.csv')"
      ],
      "metadata": {
        "id": "mv2PjhETn24x"
      },
      "execution_count": null,
      "outputs": []
    },
    {
      "cell_type": "code",
      "source": [
        "howell"
      ],
      "metadata": {
        "id": "7tn9yfrC2Wc-"
      },
      "execution_count": null,
      "outputs": []
    },
    {
      "cell_type": "markdown",
      "source": [
        "**Task4**:\n",
        "\n",
        "Make a scatter plot of height versus weight for the howell data set."
      ],
      "metadata": {
        "id": "n5wfHiR_AELA"
      }
    },
    {
      "cell_type": "markdown",
      "source": [
        "**Task5**:\n",
        "\n",
        "Create and run a stright line linear regression model on the howell data set with height predicting weight. Visualize your model and its posterior."
      ],
      "metadata": {
        "id": "CzAWd8VRAY7X"
      }
    },
    {
      "cell_type": "markdown",
      "source": [
        "**Task6**:\n",
        "\n",
        "Run a posterior predictive check for model_howell, plot the posterior predictive distribution, and comment on the fit of the model you made in Task5."
      ],
      "metadata": {
        "id": "QCkwI3ZIG33g"
      }
    },
    {
      "cell_type": "markdown",
      "source": [
        "**Task7**:\n",
        "\n",
        "Create and visualize the posterior of a generalized linear model that improves the on the fit of the model you made in Task5."
      ],
      "metadata": {
        "id": "XoJfe4CJJc1R"
      }
    },
    {
      "cell_type": "markdown",
      "source": [
        "**Task8**:\n",
        "\n",
        "Run a posterior predictive check, and visualize the posterior predictive distribution, for the model you made in Task7.\n",
        "\n",
        "Comment on the fit."
      ],
      "metadata": {
        "id": "IuNulGsbUbCt"
      }
    }
  ]
}