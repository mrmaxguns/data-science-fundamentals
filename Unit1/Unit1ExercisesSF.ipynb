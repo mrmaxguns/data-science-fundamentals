{
 "cells": [
  {
   "cell_type": "markdown",
   "metadata": {
    "colab_type": "text",
    "id": "view-in-github"
   },
   "source": [
    "<a href=\"https://colab.research.google.com/github/thedarredondo/data-science-fundamentals/blob/main/Unit1/Unit1ExercisesSF.ipynb\" target=\"_parent\"><img src=\"https://colab.research.google.com/assets/colab-badge.svg\" alt=\"Open In Colab\"/></a>"
   ]
  },
  {
   "cell_type": "markdown",
   "metadata": {
    "id": "65OCktLjbZmA"
   },
   "source": [
    "# Unit 1 Exercises: Data Structure Concepts\n",
    "\n",
    "The following questions will ask you to describe the various objects we learned about in the first Unit.\n",
    "\n",
    "I'm not giving you coding exercises, because we will learn all the coding technqiues we need as we move through the course.\n",
    "\n",
    "What I do need from you right now, is a conceptual understanding how how data is stored in our computer, when we use python."
   ]
  },
  {
   "cell_type": "markdown",
   "metadata": {
    "id": "bt0bWe1evLtv"
   },
   "source": [
    "**Task1**:\n",
    "\n",
    "Describe the similarities and differences between an int and a float in python."
   ]
  },
  {
   "cell_type": "markdown",
   "metadata": {
    "id": "FW3KHt4yvt90"
   },
   "source": [
    "**Answer1**:\n",
    "\n",
    "Both are numeric types, and therefore allow the use of standard numeric operations: `+`, `-`, `*`, `/`, `**`, etc. Operations can mix `int`s and `float`s, although the result will be a `float`. The python `math` library provides utilities for simple numeric operations. For a much more comprehensive approach, `numpy` seamlessly integrates both data types with its own types.\n",
    "\n",
    "`int`s in Python represent integers, are exact, and don't have a limit on size. `float`s represent decimal values, but their precision is limited by Python internals. Notably, floating-point error affects python `float`s. Numpy provides specific-precision floating-point types to compensate for this."
   ]
  },
  {
   "cell_type": "markdown",
   "metadata": {
    "id": "mJ_i6he5wwgr"
   },
   "source": [
    "**Task2**:\n",
    "\n",
    "Describe the similarities and differences between: strings, lists, and dicts."
   ]
  },
  {
   "cell_type": "markdown",
   "metadata": {
    "id": "iFu5BKyWw98T"
   },
   "source": [
    "**Answer2**:\n",
    "\n",
    "The `string` is a way of representing an array of characters. It is immutable and provides operations for manipulating the characters within it."
   ]
  },
  {
   "cell_type": "markdown",
   "metadata": {
    "id": "56v05s45yBHk"
   },
   "source": [
    "**Task3**:\n",
    "\n",
    "What is a numpy array? Why would we ever use one over a list or dict?"
   ]
  },
  {
   "cell_type": "markdown",
   "metadata": {
    "id": "eikgxyNzyLTY"
   },
   "source": [
    "**Answer3**:\n",
    "\n",
    "[*write your answer here*]"
   ]
  },
  {
   "cell_type": "markdown",
   "metadata": {
    "id": "RLaEQ5irywBl"
   },
   "source": [
    "**Task4**:\n",
    "\n",
    "What is a pandas dataframe? Why would we ever want to use one over a numpy array?"
   ]
  },
  {
   "cell_type": "markdown",
   "metadata": {
    "id": "5IkNlzYpy-HP"
   },
   "source": [
    "**Answer4**:\n",
    "\n",
    "[*write your answer here*]"
   ]
  },
  {
   "cell_type": "markdown",
   "metadata": {
    "id": "khRn2d7qz1Y2"
   },
   "source": [
    "**Task5**:\n",
    "\n",
    "What are for loops, and why would we ever use them?"
   ]
  },
  {
   "cell_type": "markdown",
   "metadata": {
    "id": "NAdVfRZB1d9J"
   },
   "source": [
    "**Answer5**:\n",
    "\n",
    "[*write your answer here*]"
   ]
  }
 ],
 "metadata": {
  "colab": {
   "authorship_tag": "ABX9TyO57j0zxhNAjiCkytsAhUyp",
   "include_colab_link": true,
   "provenance": []
  },
  "kernelspec": {
   "display_name": "Python 3 (ipykernel)",
   "language": "python",
   "name": "python3"
  },
  "language_info": {
   "codemirror_mode": {
    "name": "ipython",
    "version": 3
   },
   "file_extension": ".py",
   "mimetype": "text/x-python",
   "name": "python",
   "nbconvert_exporter": "python",
   "pygments_lexer": "ipython3",
   "version": "3.12.3"
  }
 },
 "nbformat": 4,
 "nbformat_minor": 4
}
