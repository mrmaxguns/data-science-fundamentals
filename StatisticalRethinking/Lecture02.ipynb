{
 "cells": [
  {
   "cell_type": "markdown",
   "id": "c785fa38-b04e-4348-bead-513965bd9285",
   "metadata": {},
   "source": [
    "# 02: The Garden of Forking Data"
   ]
  },
  {
   "cell_type": "markdown",
   "id": "c36287ad-d2c7-43fa-b211-c179491ae3a7",
   "metadata": {},
   "source": [
    "Estimates are not points, but distributions.\n",
    "\n",
    "**Workflow**\n",
    "\n",
    "1. Define generative model of sample\n",
    "2. Define a specific estimand\n",
    "3. Design a statistical way to produce the estimate\n",
    "4. Test (3) using (1)\n",
    "5. Analyze sample, summarize"
   ]
  },
  {
   "cell_type": "markdown",
   "id": "486b55f4-41e2-4ef0-9461-9169d446d5a4",
   "metadata": {},
   "source": [
    "## Generative model of the globe\n",
    "\n",
    "What portion of Earth's surface is ocean?\n",
    "\n",
    "**Variables**\n",
    "\n",
    "- proportion of water $p$\n",
    "- number of tosses $N$\n",
    "- water observations $W$\n",
    "- land observations $L$\n",
    "\n",
    "Find causal relationships between these variables! (consequences of intervention) – can be represented by a DAG\n",
    "\n",
    "- $N$ influences $W$ and $L$\n",
    "- $p$ influences $W$ and $L$\n",
    "\n",
    "So, $W, L = f(p, N)$"
   ]
  },
  {
   "cell_type": "markdown",
   "id": "960a3a79-cef4-4902-bceb-491d1731e1bf",
   "metadata": {},
   "source": []
  }
 ],
 "metadata": {
  "kernelspec": {
   "display_name": "Python 3 (ipykernel)",
   "language": "python",
   "name": "python3"
  },
  "language_info": {
   "codemirror_mode": {
    "name": "ipython",
    "version": 3
   },
   "file_extension": ".py",
   "mimetype": "text/x-python",
   "name": "python",
   "nbconvert_exporter": "python",
   "pygments_lexer": "ipython3",
   "version": "3.12.3"
  }
 },
 "nbformat": 4,
 "nbformat_minor": 5
}
