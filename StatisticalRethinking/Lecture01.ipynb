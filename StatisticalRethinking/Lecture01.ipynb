{
 "cells": [
  {
   "cell_type": "markdown",
   "id": "b8ccc48d-ef21-40f3-ba99-91d6c93f3cc2",
   "metadata": {},
   "source": [
    "# 01: The Golem of Prague"
   ]
  },
  {
   "cell_type": "markdown",
   "id": "aee200d3-083b-495f-a529-583b596bae96",
   "metadata": {},
   "source": [
    "**Science before statistics**: for statistic models to produce insight, they need scientific (causal) models.\n",
    "\n",
    "Reasons are not found in data. Reasons are found in causes. Causes cannot be found from the data alone.\n",
    "\n",
    "> No causes in, no causes out\n",
    "\n",
    "Corellation/Association $\\neq$ Causation\n",
    "\n",
    "When you know a cause, you can predict the consequences of an intervention and ponder what ifs.\n",
    "\n",
    "Description and causal modeling (inference) go hand in hand."
   ]
  },
  {
   "cell_type": "markdown",
   "id": "18019ac0-2a14-440d-bc9b-b59a2787cd1f",
   "metadata": {},
   "source": [
    "## DAGs\n",
    "\n",
    "![Example of a Directed Acyclic Graph](images/dag.svg)\n",
    "\n",
    "**DAG**: Directed Acyclic Graph\n",
    "\n",
    "- Arrows represent causality. If you change the value at the start of the arrow, the change affects the value at the end of the arrow, but the opposite is not true.\n",
    "- No assumptions about relationships.\n",
    "- Multiple statistical models are typically used.\n",
    "- Get out of data, and into science: \"intuition pumps\"\n",
    "\n",
    "There are **bad controls**: variables that create confusion, bias. These *cannot* be added to the DAG."
   ]
  },
  {
   "cell_type": "markdown",
   "id": "dd8f80d5-4597-4861-a8db-757ed4ecfa6c",
   "metadata": {},
   "source": [
    "## Golems\n",
    "\n",
    "**Golem**: a statistical model.\n",
    "\n",
    "> *Golem*: In Jewish folklore, an artificially created human supernaturally endowed with life. (Wordnik)\n",
    "\n",
    "Golems are powerful, but don't have wisdom/foresight, which could make them dangerous.\n",
    "\n",
    "### Null hypothesis\n",
    "\n",
    "Beware of simplified flow charts that suggest certain tests.\n",
    "\n",
    "Advanced systems cannot be narrowed down to a simple null hypothesis. There is no null network: the null hypothesis does not point to a specific explanation.\n",
    "\n",
    "> *Null Hypothesis*: the hypothesis in which no relationship exists between two sets of data or variables being analyzed (Wikipedia)\n",
    "\n",
    "### Generative causal models\n",
    "\n",
    "**Generative causal models**: similar to DAGs, but can produce synthetic data.\n",
    "\n",
    "Controls in something like a DAG can only be justified using a generative causal model.\n",
    "\n",
    "We need a way to derive uncertainty.\n",
    "\n",
    "### Bayesian statistics\n",
    "\n",
    "* For simple analysis, it shouldn't be used (overkill).\n",
    "* For realistic analysis, it's often the best tool for the job\n",
    "  - Deals with: measurement error, missing data, latent variables, regularization\n",
    "  - Generative models\n",
    "\n",
    "It is no longer controversial (Bayes vs. Frequentism debate)."
   ]
  },
  {
   "cell_type": "markdown",
   "id": "c4be084f-48ef-4c5c-88e4-0e124260dc3b",
   "metadata": {},
   "source": [
    "## Scientific data analysis"
   ]
  },
  {
   "cell_type": "markdown",
   "id": "eec483ca-1703-4dbe-99b4-61d5c6da034f",
   "metadata": {},
   "source": [
    "Data analysis should be done using programming.\n",
    "\n",
    "* Understand what you are doing\n",
    "* Document your work, reduce error\n",
    "* Respectable scientific workflow"
   ]
  }
 ],
 "metadata": {
  "kernelspec": {
   "display_name": "Python 3 (ipykernel)",
   "language": "python",
   "name": "python3"
  },
  "language_info": {
   "codemirror_mode": {
    "name": "ipython",
    "version": 3
   },
   "file_extension": ".py",
   "mimetype": "text/x-python",
   "name": "python",
   "nbconvert_exporter": "python",
   "pygments_lexer": "ipython3",
   "version": "3.12.3"
  }
 },
 "nbformat": 4,
 "nbformat_minor": 5
}
