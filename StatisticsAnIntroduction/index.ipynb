{
 "cells": [
  {
   "cell_type": "markdown",
   "id": "68ab65e8-e60d-4c53-8e0c-02b9eaa50b72",
   "metadata": {},
   "source": [
    "# Statistics: an Introduction (5e)\n",
    "\n",
    "This directory has exercises that I completed going through the textbook [Statistics: an Introduction by Roger E. Kirk (5th edition)](https://books.google.com/books?id=W4t9Nfgk03AC)."
   ]
  }
 ],
 "metadata": {
  "kernelspec": {
   "display_name": "Python 3 (ipykernel)",
   "language": "python",
   "name": "python3"
  },
  "language_info": {
   "codemirror_mode": {
    "name": "ipython",
    "version": 3
   },
   "file_extension": ".py",
   "mimetype": "text/x-python",
   "name": "python",
   "nbconvert_exporter": "python",
   "pygments_lexer": "ipython3",
   "version": "3.12.3"
  }
 },
 "nbformat": 4,
 "nbformat_minor": 5
}
