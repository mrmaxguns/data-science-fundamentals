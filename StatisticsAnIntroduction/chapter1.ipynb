{
 "cells": [
  {
   "cell_type": "markdown",
   "id": "73f6ea77-73b8-43e1-b1c7-5384cdf26e99",
   "metadata": {},
   "source": [
    "# Chapter 1"
   ]
  },
  {
   "cell_type": "markdown",
   "id": "df9602eb-7496-4bb9-a64a-6dd9d8c861ee",
   "metadata": {},
   "source": [
    "## CFU 1.1–1.3\n",
    "\n",
    "1. 1. Those who need statistics knowledge to read papers, those who need statistics knowledge to write papers, applied statisticians, mathematical statisticians.\n",
    "   2. I fall into the second category because I want to use statistics for my own research. For example, I can apply it in surveyor club.\n",
    "2. 1. (a) white women students, (b) a woman student, (c) whether the student is ambivalent about having a career\n",
    "   2. (a) drivers in the Tequila Tech age group, (b) an individual student, (c) how many times the student has been involved in a car accident\n",
    "   3. (a) homes in Chickasha, (b) a home, (c) whether the home has an HD TV\n",
    "   4. (a) students at Ginebra University, (b) a student, (c) the student's GPA\n",
    "   5. (a) American men between the ages of 27 and 39, (b) a man, (c) whether the man has AIDS\n",
    "   6. (a) female high school students, (b) a student, (c) whether the student has performed community service in the past two years\n",
    "3. The lower limit on sample size is 1; the upper limit is the population size"
   ]
  },
  {
   "cell_type": "markdown",
   "id": "e7fbbe83-f38a-41f0-84b6-14b9fb6d10df",
   "metadata": {},
   "source": []
  }
 ],
 "metadata": {
  "kernelspec": {
   "display_name": "Python 3 (ipykernel)",
   "language": "python",
   "name": "python3"
  },
  "language_info": {
   "codemirror_mode": {
    "name": "ipython",
    "version": 3
   },
   "file_extension": ".py",
   "mimetype": "text/x-python",
   "name": "python",
   "nbconvert_exporter": "python",
   "pygments_lexer": "ipython3",
   "version": "3.12.3"
  }
 },
 "nbformat": 4,
 "nbformat_minor": 5
}
