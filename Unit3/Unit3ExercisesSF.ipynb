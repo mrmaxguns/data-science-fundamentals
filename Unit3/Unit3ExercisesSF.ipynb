{
 "cells": [
  {
   "cell_type": "markdown",
   "metadata": {
    "colab_type": "text",
    "id": "view-in-github"
   },
   "source": [
    "<a href=\"https://colab.research.google.com/github/thedarredondo/data-science-fundamentals/blob/main/Unit3/Unit3ExercisesSF.ipynb\" target=\"_parent\"><img src=\"https://colab.research.google.com/assets/colab-badge.svg\" alt=\"Open In Colab\"/></a>"
   ]
  },
  {
   "cell_type": "code",
   "execution_count": 1,
   "metadata": {
    "id": "yjgtRRI4vpmI"
   },
   "outputs": [],
   "source": [
    "#!pip install \"preliz[full,notebook]\""
   ]
  },
  {
   "cell_type": "code",
   "execution_count": 2,
   "metadata": {
    "id": "bzVwN8J4fd-q"
   },
   "outputs": [],
   "source": [
    "import preliz as pz"
   ]
  },
  {
   "cell_type": "markdown",
   "metadata": {
    "id": "Bm-W3g2bwXw_"
   },
   "source": [
    "# Unit 3 Exercises: Delightfully Diverse Distirbutions\n",
    "\n",
    "Use these exercises as a chance to explore the probability distributions (dists) from the pymc and preliz libraries. [Moments](https://en.wikipedia.org/wiki/Moment_(mathematics)), the main subject of these exercises, are a great way to describe dists, but there's another  way: [maximum entropy](https://en.wikipedia.org/wiki/Maximum_entropy_probability_distribution#Other_examples), which  we'll cover in a later unit.\n",
    "\n",
    "Here's what we'll cover in this Unit's exercises:\n",
    "- The first four moments: mean, variance, skew, and kurtosis, as well as the support.\n",
    "- Single variable continuous distributions.\n",
    "- Single variable discrete distriutions\n",
    "\n",
    "\n",
    "Why do we need to know this stuff? Two reasons:\n",
    "- Probability distributions are required to set priors and likelihoods in pymc.\n",
    "- Randomness and uncertainty are not well defined mathematically, but probability and probability distributions are.\n",
    "\n",
    "With that in mind, think of these exercises as an oppurtunity to explore the ways we can be uncertain, or the ways things can be random."
   ]
  },
  {
   "cell_type": "markdown",
   "metadata": {
    "id": "WcGFPKwmhs0c"
   },
   "source": [
    "## The First Four Moments: Mean, Variance, Skew, and Kurtosis\n",
    "\n",
    "When we talk about a probablity dist, we often care about at four things:\n",
    "- The expected value, or where a distribution is centered (mean)\n",
    "- The amount of variation from that centered value (variation)\n",
    "- Whether or not our distribution favors, leans towards, or skews towards certain values. (skew)\n",
    "- How often to expect unusually high or low values. (kurtosis)"
   ]
  },
  {
   "cell_type": "markdown",
   "metadata": {
    "id": "WnlylLtu7ufy"
   },
   "source": [
    "### Playing with Beta"
   ]
  },
  {
   "cell_type": "markdown",
   "metadata": {
    "id": "Lhc2olTakfgn"
   },
   "source": [
    "**Task1**:\n",
    "\n",
    "Plot a [preliZ Beta distribution](https://preliz.readthedocs.io/en/latest/api_reference.html#preliz.distributions.beta.Beta) with $α=1$ and $β=1$."
   ]
  },
  {
   "cell_type": "code",
   "execution_count": 4,
   "metadata": {},
   "outputs": [
    {
     "data": {
      "text/plain": [
       "<Axes: >"
      ]
     },
     "execution_count": 4,
     "metadata": {},
     "output_type": "execute_result"
    },
    {
     "data": {
      "image/png": "[encoded data removed]",
      "text/plain": [
       "<Figure size 640x480 with 1 Axes>"
      ]
     },
     "metadata": {},
     "output_type": "display_data"
    }
   ],
   "source": [
    "beta = pz.Beta(alpha=1, beta=1)\n",
    "beta.plot_pdf()"
   ]
  },
  {
   "cell_type": "markdown",
   "metadata": {
    "id": "ij00K6IClPo6"
   },
   "source": [
    "**Task2**:\n",
    "\n",
    "Find the mean, variance, skew, and kurtosis of a $Beta(1,1)$ distribution. This is the same as asking for the first four moments of a $Beta(1,1)$ distribution.\n",
    "\n",
    "*Hint*: preliZ has built in function that does this for you."
   ]
  },
  {
   "cell_type": "code",
   "execution_count": 5,
   "metadata": {},
   "outputs": [
    {
     "data": {
      "text/plain": [
       "[0.5, 0.08333333333333333, array(0.), -1.2]"
      ]
     },
     "execution_count": 5,
     "metadata": {},
     "output_type": "execute_result"
    }
   ],
   "source": [
    "beta.moments()"
   ]
  },
  {
   "cell_type": "markdown",
   "metadata": {
    "id": "W5ZWsd2UmieT"
   },
   "source": [
    "**Task3**:\n",
    "\n",
    "Plot the following distributions: $Beta(1,1)$, $Beta(0.9,0.9)$, $Beta(2,1)$, $Beta(1,2)$, $Beta(7,11)$, $Beta(96,42)$, $Beta(5,5)$, $Beta(500,500)$, $Beta(0.8,0.9)$.\n",
    "\n",
    "Then, determine which of those distribtuions has:\n",
    "- the largest/smallest mean\n",
    "- the largest/smallest variance\n",
    "- the largest/smallest skew\n",
    "- the largest/smallest kurtosis"
   ]
  },
  {
   "cell_type": "code",
   "execution_count": 6,
   "metadata": {},
   "outputs": [],
   "source": [
    "from dataclasses import dataclass"
   ]
  },
  {
   "cell_type": "code",
   "execution_count": 12,
   "metadata": {},
   "outputs": [],
   "source": [
    "dists = [\n",
    "    pz.Beta(alpha=1, beta=1),\n",
    "    pz.Beta(alpha=0.9, beta=0.9),\n",
    "    pz.Beta(alpha=2, beta=1),\n",
    "    pz.Beta(alpha=1, beta=2),\n",
    "    pz.Beta(alpha=7, beta=11),\n",
    "    pz.Beta(alpha=96, beta=42),\n",
    "    pz.Beta(alpha=5, beta=5),\n",
    "    pz.Beta(alpha=500, beta=500),\n",
    "    pz.Beta(alpha=0.8, beta=0.9),\n",
    "]\n",
    "\n",
    "@dataclass\n",
    "class SignificantDistribution:\n",
    "    description: str\n",
    "    index: int\n",
    "    distribution: pz.Beta | None\n",
    "\n",
    "min_values = [\n",
    "    SignificantDistribution(description=\"Smallest Mean\", index=0, distribution=None),\n",
    "    SignificantDistribution(description=\"Smallest Variance\", index=1, distribution=None),\n",
    "    SignificantDistribution(description=\"Smallest Skew\", index=2, distribution=None),\n",
    "    SignificantDistribution(description=\"Smallest Kurtosis\", index=3, distribution=None),\n",
    "]\n",
    "\n",
    "max_values = [\n",
    "    SignificantDistribution(description=\"Largest Mean\", index=0, distribution=None),\n",
    "    SignificantDistribution(description=\"Largest Variance\", index=1, distribution=None),\n",
    "    SignificantDistribution(description=\"Largest Skew\", index=2, distribution=None),\n",
    "    SignificantDistribution(description=\"Largest Kurtosis\", index=3, distribution=None),\n",
    "]"
   ]
  },
  {
   "cell_type": "code",
   "execution_count": 13,
   "metadata": {},
   "outputs": [],
   "source": [
    "for distribution in dists:\n",
    "    for min_dist in min_values:\n",
    "        if min_dist.distribution is None or distribution.moments()[min_dist.index] < min_dist.distribution.moments()[min_dist.index]:\n",
    "            min_dist.distribution = distribution\n",
    "\n",
    "    for max_dist in max_values:\n",
    "        if max_dist.distribution is None or distribution.moments()[max_dist.index] > max_dist.distribution.moments()[max_dist.index]:\n",
    "            max_dist.distribution = distribution"
   ]
  },
  {
   "cell_type": "code",
   "execution_count": 22,
   "metadata": {},
   "outputs": [
    {
     "name": "stdout",
     "output_type": "stream",
     "text": [
      "Minimum values:\n",
      "Smallest Mean: \u001b[1mBeta\u001b[0m(alpha=1, beta=2)  (0.3333333333333333)\n",
      "Smallest Variance: \u001b[1mBeta\u001b[0m(alpha=500, beta=500)  (0.00024975024975024975)\n",
      "Smallest Skew: \u001b[1mBeta\u001b[0m(alpha=2, beta=1)  (-0.565685424949238)\n",
      "Smallest Kurtosis: \u001b[1mBeta\u001b[0m(alpha=0.8, beta=0.9)  (-1.263657274295572)\n",
      "\n",
      "\n",
      "Maximum values:\n",
      "Largest Mean: \u001b[1mBeta\u001b[0m(alpha=96, beta=42)  (0.6956521739130435)\n",
      "Largest Variance: \u001b[1mBeta\u001b[0m(alpha=0.8, beta=0.9)  (0.09227220299884659)\n",
      "Largest Skew: \u001b[1mBeta\u001b[0m(alpha=1, beta=2)  (0.565685424949238)\n",
      "Largest Kurtosis: \u001b[1mBeta\u001b[0m(alpha=500, beta=500)  (-0.005982053838484547)\n"
     ]
    }
   ],
   "source": [
    "print(\"Minimum values:\")\n",
    "for distribution in min_values:\n",
    "    print(f\"{distribution.description}: {distribution.distribution}  ({distribution.distribution.moments()[distribution.index]})\")\n",
    "\n",
    "print(\"\\n\\nMaximum values:\")\n",
    "for distribution in max_values:\n",
    "    print(f\"{distribution.description}: {distribution.distribution}  ({distribution.distribution.moments()[distribution.index]})\")"
   ]
  },
  {
   "cell_type": "markdown",
   "metadata": {
    "id": "3r_QA0G37_3E"
   },
   "source": [
    "### Playing with other Continuous Distributions\n",
    "\n",
    "For the remaining tasks, make sure to continue to use the [preliZ documentation](https://preliz.readthedocs.io/en/latest/api_reference.html).\n",
    "\n",
    "The [wikipedia pages for each of the probability distributions](https://en.wikipedia.org/wiki/List_of_probability_distributions) are also great resources.\n",
    "\n",
    "[Wolfram Alpha](https://www.wolframalpha.com/examples/mathematics/probability/probability-distributions) is another great resource as well."
   ]
  },
  {
   "cell_type": "markdown",
   "metadata": {
    "id": "ib8wI12i8HfE"
   },
   "source": [
    "**Task4**:\n",
    "\n",
    "Plot the pdfs of each of the following distributions: $Normal(μ=0,σ=1)$, $StudentT(ν=1,μ=0,σ=1)$, $Exponential(λ=1/2)$, $Gamma(α=2,β=1)$, $HalfStudentT(ν=1,σ1)$\n",
    "\n",
    "For the T distribution, use\n",
    "\n",
    "```\n",
    "support=(-4,4)\n",
    "```\n",
    "inside the plot_pdf function.\n"
   ]
  },
  {
   "cell_type": "markdown",
   "metadata": {
    "id": "CB83p_TNEtYD"
   },
   "source": [
    "**Task5**:\n",
    "\n",
    "What x values do the Exponenital, Gamma, HalfSutdentT, and HalfNormal functions support? What x values do the Normal and T distribution support? What x values does the Beta distribution support?"
   ]
  },
  {
   "cell_type": "markdown",
   "metadata": {
    "id": "-UM75uMZFmwE"
   },
   "source": [
    "**Task6**:\n",
    "\n",
    "Can a distribution with support $[0,∞]$ have zero skew? If so, plot that specific distribution."
   ]
  },
  {
   "cell_type": "markdown",
   "metadata": {
    "id": "1fqz2-fsGkHK"
   },
   "source": [
    "**Task7**:\n",
    "\n",
    "Name a distribution that supports the real numbers with variance equal to 1, 0 skew, and 0 kurtosis."
   ]
  },
  {
   "cell_type": "markdown",
   "metadata": {
    "id": "PQpSgPgVVW7n"
   },
   "source": [
    "**Task8**:\n",
    "\n",
    "Name a distribution with support $(-∞,∞)$ and that has negative skew."
   ]
  },
  {
   "cell_type": "markdown",
   "metadata": {
    "id": "saPwJmhpKDR3"
   },
   "source": [
    "###Playing with Discrete Distributions"
   ]
  },
  {
   "cell_type": "markdown",
   "metadata": {
    "id": "IPxoWt3BKHxD"
   },
   "source": [
    "**Task9**:\n",
    "\n",
    "Plot the pdfs (techincally the pmfs) of the following distributions: $Bernoulli(p=0.7)$, $Binomial(n=10,p=0.7)$, $Poisson(λ=7)$, $Geometric(p=0.7)$, $HyperGeometric(N=50,k=35,n=15)$, $Categorical(p=[0.05,0.3,0.05,0.1,0.2,0.4])$\n",
    "\n",
    "Additionally, compute the first four moments for all those distributions--except the Categorical distribution."
   ]
  },
  {
   "cell_type": "markdown",
   "metadata": {
    "id": "fUtBkO1oFTou"
   },
   "source": [
    "**Task10**:\n",
    "\n",
    "Describe what process each of the previous discrete distributions models, and their support.\n",
    "\n",
    "Hint: Make sure to read any of the preliZ documentation, the wikipedia articles, or wolfram alpha.\n"
   ]
  }
 ],
 "metadata": {
  "colab": {
   "authorship_tag": "ABX9TyPFp4SXArpRO/mpFEWM1rIb",
   "include_colab_link": true,
   "provenance": []
  },
  "kernelspec": {
   "display_name": "Python 3 (ipykernel)",
   "language": "python",
   "name": "python3"
  },
  "language_info": {
   "codemirror_mode": {
    "name": "ipython",
    "version": 3
   },
   "file_extension": ".py",
   "mimetype": "text/x-python",
   "name": "python",
   "nbconvert_exporter": "python",
   "pygments_lexer": "ipython3",
   "version": "3.12.3"
  }
 },
 "nbformat": 4,
 "nbformat_minor": 4
}
