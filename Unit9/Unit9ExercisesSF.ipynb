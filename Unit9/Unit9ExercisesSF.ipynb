{
 "cells": [
  {
   "cell_type": "markdown",
   "metadata": {
    "colab_type": "text",
    "id": "view-in-github"
   },
   "source": [
    "<a href=\"https://colab.research.google.com/github/thedarredondo/data-science-fundamentals/blob/main/Unit9/Unit9ExercisesSF.ipynb\" target=\"_parent\"><img src=\"https://colab.research.google.com/assets/colab-badge.svg\" alt=\"Open In Colab\"/></a>"
   ]
  },
  {
   "cell_type": "markdown",
   "metadata": {
    "id": "_AryvPXMCLY0"
   },
   "source": [
    "# Unit 9 Exercises: Matrix Multiplication is all you need?\n",
    "\n",
    "We won't just talk about matrix multiplication in these exercises: we'll also play with a neuarl network visualization in order to get some intuition on how to properly parameratize neural networks."
   ]
  },
  {
   "cell_type": "markdown",
   "metadata": {
    "id": "p1alkQDKCfg8"
   },
   "source": [
    "## Task 1\n",
    "\n",
    "Play with the web app at this [link](http://matrixmultiplication.xyz/).\n",
    "\n",
    "Explain what happens when we do matrix multiplication.\n",
    "\n",
    "Yes, I know I basically already asked you to do this in the notes. Don't copy and paste your anwser from before; honestly do the exercise again.\n",
    "\n",
    "---\n",
    "\n",
    "I took linear so I like to think of matrix multiplication as constructing a new matrix using e-vectors.\n",
    "\n",
    "Background: we know that multiplying a matrix by the e-vector\n",
    "$\\vec{e_{i}} = \\left[\\begin{smallmatrix} 0 \\\\ \\vdots \\\\ 1 \\text{ at position i} \\\\ \\vdots \\\\ 0 \\end{smallmatrix}\\right]$ gives us its $i$th column.\n",
    "\n",
    "Let's multiply matrices $A$ and $B$ to get the matrix $C$. We must ensure that the number of $A$'s columns must equal the number of $B$'s rows.\n",
    "\n",
    "Say we then multiply $C$ by some e-vector $\\vec{e_{i}}$. By the properties of matrices we know that $C\\vec{e_{i}} = AB\\vec{e_{i}} = A(B\\vec{e_{i}})$. So essentially, we can construct $C$ column-by-column, by multiplying $B$ by each e-vector (which gives us $B$'s columns column-by-column) and then multiplying them by $A$.\n",
    "\n",
    "For example, to calculate $\\left[\\begin{smallmatrix}3 & 4 \\\\ 1 & 2\\end{smallmatrix}\\right] \\left[\\begin{smallmatrix}1 & 0 \\\\ 2 & 3\\end{smallmatrix}\\right]$ we do:\n",
    "\n",
    "1. $\\left[\\begin{smallmatrix}3 & 4 \\\\ 1 & 2\\end{smallmatrix}\\right] \\left[\\begin{smallmatrix}1 & 0 \\\\ 2 & 3\\end{smallmatrix}\\right] \\left[\\begin{smallmatrix}1 \\\\ 0\\end{smallmatrix}\\right] = \\left[\\begin{smallmatrix}3 & 4 \\\\ 1 & 2\\end{smallmatrix}\\right] \\left[\\begin{smallmatrix}1 \\\\ 2\\end{smallmatrix}\\right] = 1\\left[\\begin{smallmatrix}3 \\\\ 1\\end{smallmatrix}\\right] + 2\\left[\\begin{smallmatrix}4 \\\\ 2\\end{smallmatrix}\\right] = \\left[\\begin{smallmatrix}11 \\\\ 5\\end{smallmatrix}\\right]$\n",
    "2. $\\left[\\begin{smallmatrix}3 & 4 \\\\ 1 & 2\\end{smallmatrix}\\right] \\left[\\begin{smallmatrix}1 & 0 \\\\ 2 & 3\\end{smallmatrix}\\right] \\left[\\begin{smallmatrix}0 \\\\ 1\\end{smallmatrix}\\right] = \\left[\\begin{smallmatrix}3 & 4 \\\\ 1 & 2\\end{smallmatrix}\\right] \\left[\\begin{smallmatrix}0 \\\\ 3\\end{smallmatrix}\\right] = 0\\left[\\begin{smallmatrix}3 \\\\ 1\\end{smallmatrix}\\right] + 3\\left[\\begin{smallmatrix}4 \\\\ 2\\end{smallmatrix}\\right] = \\left[\\begin{smallmatrix}12 \\\\ 6\\end{smallmatrix}\\right]$\n",
    "\n",
    "So the resulting matrix is $\\left[\\begin{smallmatrix}11 & 12 \\\\ 5 & 6\\end{smallmatrix}\\right]$.\n",
    "\n",
    "In conclusion, we can think of matrix multiplication as constructing the resulting matrix column-by-column by multiplying the right matrix's columns by the left matrix."
   ]
  },
  {
   "cell_type": "markdown",
   "metadata": {
    "id": "JK1wkGSwC7nW"
   },
   "source": [
    "## Task2\n",
    "\n",
    "Look at code for any neural network, such as my notes, or any other source.\n",
    "\n",
    "1. Point out where in the code the neural network is multiplying matricies.\n",
    "\n",
    "2. Conceptually, what part of a neural network is that matrix multiplication that you pointed out?\n",
    "In other words, what does matrix multiplication do for a neural network?\n",
    "\n",
    "\n",
    "---\n",
    "\n",
    "From [a random Medium post](https://medium.com/technology-invention-and-more/how-to-build-a-simple-neural-network-in-9-lines-of-python-code-cc8f23647ca1):\n",
    "\n",
    "```python\n",
    "from numpy import exp, array, random, dot\n",
    "training_set_inputs = array([[0, 0, 1], [1, 1, 1], [1, 0, 1], [0, 1, 1]])\n",
    "training_set_outputs = array([[0, 1, 1, 0]]).T\n",
    "random.seed(1)\n",
    "synaptic_weights = 2 * random.random((3, 1)) - 1\n",
    "for iteration in xrange(10000):\n",
    "    output = 1 / (1 + exp(-(dot(training_set_inputs, synaptic_weights))))\n",
    "    synaptic_weights += dot(training_set_inputs.T, (training_set_outputs - output) * output * (1 - output))\n",
    "print 1 / (1 + exp(-(dot(array([1, 0, 0]), synaptic_weights))))\n",
    "```\n",
    "\n",
    "This line does some matrix multiplication: `synaptic_weights += dot(training_set_inputs.T, (training_set_outputs - output) * output * (1 - output))`. This line of code is responsible for adjusting the model's weights."
   ]
  },
  {
   "cell_type": "markdown",
   "metadata": {
    "id": "cUQQ_t5wEtD0"
   },
   "source": [
    "## Task3\n",
    "\n",
    "Go to the [TensorFlow Playground website](https://playground.tensorflow.org/#activation=tanh&batchSize=10&dataset=circle&regDataset=reg-plane&learningRate=0.03&regularizationRate=0&noise=0&networkShape=4,2&seed=0.16540&showTestData=false&discretize=false&percTrainData=50&x=true&y=true&xTimesY=false&xSquared=false&ySquared=false&cosX=false&sinX=false&cosY=false&sinY=false&collectStats=false&problem=classification&initZero=false&hideText=false).\n",
    "\n",
    "Explain what part of the neural network visualization is matrix multiplication.\n",
    "\n",
    "---\n",
    "\n",
    "The lines where we go from one layer to the next involve matrix multiplication. The value of all nodes in a layer is multiplied by a matrix representing the weights (lines) between the nodes in the previous and next layer to produce the nodes in the next layer.\n",
    "\n",
    "Source: https://datascience.stackexchange.com/questions/75855/what-types-of-matrix-multiplication-are-used-in-machine-learning-when-are-they"
   ]
  },
  {
   "cell_type": "markdown",
   "metadata": {
    "id": "8sYleMUZDKDg"
   },
   "source": [
    "## Task4\n",
    "\n",
    "Go to the [TensorFlow Playground website](https://playground.tensorflow.org/#activation=tanh&batchSize=10&dataset=circle&regDataset=reg-plane&learningRate=0.03&regularizationRate=0&noise=0&networkShape=4,2&seed=0.16540&showTestData=false&discretize=false&percTrainData=50&x=true&y=true&xTimesY=false&xSquared=false&ySquared=false&cosX=false&sinX=false&cosY=false&sinY=false&collectStats=false&problem=classification&initZero=false&hideText=false).\n",
    "\n",
    "Set up the scenario with the following characteristics:\n",
    "\n",
    "- problem type: regression\n",
    "- Data: multi guassian\n",
    "- Ratio: 80% training\n",
    "- Noise: 20\n",
    "- Batch size: 15\n",
    "- Discretize output: start with it checked on\n",
    "\n",
    "You may turn discretize output on or off once you get an idea of what to do, so you can see what each node is doing.\n",
    "\n",
    "Goal: get your test loss to under **0.03**.\n",
    "\n",
    "You may change any of the other parameters that I didn't explicitly tell you to set up. Remember to use the back/restart button inbetween model adjustments.\n",
    "\n",
    "Your answer will be a link to the model you created. How do you get that link? Once you've achieved the appropriate test loss, copy and paste the url.\n",
    "\n",
    "---\n",
    "\n",
    "[LINK](https://playground.tensorflow.org/#activation=tanh&batchSize=15&dataset=circle&regDataset=reg-gauss&learningRate=0.03&regularizationRate=0&noise=20&networkShape=4,2&seed=0.35486&showTestData=false&discretize=true&percTrainData=80&x=true&y=true&xTimesY=false&xSquared=false&ySquared=false&cosX=false&sinX=false&cosY=false&sinY=false&collectStats=false&problem=regression&initZero=false&hideText=false)"
   ]
  },
  {
   "cell_type": "markdown",
   "metadata": {
    "id": "4Pan5Q-XJDpe"
   },
   "source": [
    "## Task5\n",
    "\n",
    "Go to the [TensorFlow Playground website](https://playground.tensorflow.org/#activation=tanh&batchSize=10&dataset=circle&regDataset=reg-plane&learningRate=0.03&regularizationRate=0&noise=0&networkShape=4,2&seed=0.16540&showTestData=false&discretize=false&percTrainData=50&x=true&y=true&xTimesY=false&xSquared=false&ySquared=false&cosX=false&sinX=false&cosY=false&sinY=false&collectStats=false&problem=classification&initZero=false&hideText=false).\n",
    "\n",
    "Set up the scenario with the following characteristics:\n",
    "\n",
    "- problem type: classification\n",
    "- Data: circle\n",
    "- Ratio: 80% training\n",
    "- Noise: 0\n",
    "- Batch size: 15\n",
    "\n",
    "Goal: get your test loss to under **0.005**.\n",
    "\n",
    "You may change any of the other parameters that I didn't explicitly tell you to set up. Remember to use the back/restart button inbetween model adjustments.\n",
    "\n",
    "Your answer will be a link to the model you created. How do you get that link? Once you've achieved the appropriate test loss, copy and paste the url.\n",
    "\n",
    "[LINK](https://playground.tensorflow.org/#activation=tanh&batchSize=15&dataset=circle&regDataset=reg-plane&learningRate=0.03&regularizationRate=0&noise=0&networkShape=4,2&seed=0.30529&showTestData=false&discretize=false&percTrainData=80&x=true&y=true&xTimesY=false&xSquared=false&ySquared=false&cosX=false&sinX=false&cosY=false&sinY=false&collectStats=false&problem=classification&initZero=false&hideText=false)"
   ]
  },
  {
   "cell_type": "markdown",
   "metadata": {
    "id": "AKuSgkjWLlwL"
   },
   "source": [
    "## Task6\n",
    "\n",
    "Go to the [TensorFlow Playground website](https://playground.tensorflow.org/#activation=tanh&batchSize=10&dataset=circle&regDataset=reg-plane&learningRate=0.03&regularizationRate=0&noise=0&networkShape=4,2&seed=0.16540&showTestData=false&discretize=false&percTrainData=50&x=true&y=true&xTimesY=false&xSquared=false&ySquared=false&cosX=false&sinX=false&cosY=false&sinY=false&collectStats=false&problem=classification&initZero=false&hideText=false).\n",
    "\n",
    "Set up the scenario with the following characteristics:\n",
    "\n",
    "- problem type: classification\n",
    "- Data: spiral\n",
    "- Ratio: 80% training\n",
    "- Noise: 20\n",
    "- Batch size: 15\n",
    "\n",
    "Goal: get your test loss to under **0.05**.\n",
    "\n",
    "You may change any of the other parameters that I didn't explicitly tell you to set up. Remember to use the back/restart button inbetween model adjustments.\n",
    "\n",
    "Your answer will be a link to the model you created. How do you get that link? Once you've achieved the appropriate test loss, copy and paste the url.\n",
    "\n",
    "---\n",
    "\n",
    "[LINK](https://playground.tensorflow.org/#activation=tanh&batchSize=15&dataset=spiral&regDataset=reg-plane&learningRate=0.03&regularizationRate=0&noise=20&networkShape=8,8,8,8,8,8&seed=0.95649&showTestData=false&discretize=false&percTrainData=80&x=true&y=true&xTimesY=false&xSquared=false&ySquared=false&cosX=false&sinX=true&cosY=false&sinY=true&collectStats=false&problem=classification&initZero=false&hideText=false)"
   ]
  }
 ],
 "metadata": {
  "colab": {
   "authorship_tag": "ABX9TyOF8iYCofWhzA3MTnXMevhS",
   "include_colab_link": true,
   "provenance": []
  },
  "kernelspec": {
   "display_name": "Python 3 (ipykernel)",
   "language": "python",
   "name": "python3"
  },
  "language_info": {
   "codemirror_mode": {
    "name": "ipython",
    "version": 3
   },
   "file_extension": ".py",
   "mimetype": "text/x-python",
   "name": "python",
   "nbconvert_exporter": "python",
   "pygments_lexer": "ipython3",
   "version": "3.12.3"
  }
 },
 "nbformat": 4,
 "nbformat_minor": 4
}
