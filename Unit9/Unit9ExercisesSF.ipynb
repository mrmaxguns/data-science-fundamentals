{
  "nbformat": 4,
  "nbformat_minor": 0,
  "metadata": {
    "colab": {
      "provenance": [],
      "authorship_tag": "ABX9TyOF8iYCofWhzA3MTnXMevhS",
      "include_colab_link": true
    },
    "kernelspec": {
      "name": "python3",
      "display_name": "Python 3"
    },
    "language_info": {
      "name": "python"
    }
  },
  "cells": [
    {
      "cell_type": "markdown",
      "metadata": {
        "id": "view-in-github",
        "colab_type": "text"
      },
      "source": [
        "<a href=\"https://colab.research.google.com/github/thedarredondo/data-science-fundamentals/blob/main/Unit9/Unit9ExercisesSF.ipynb\" target=\"_parent\"><img src=\"https://colab.research.google.com/assets/colab-badge.svg\" alt=\"Open In Colab\"/></a>"
      ]
    },
    {
      "cell_type": "markdown",
      "source": [
        "# Unit 9 Exercises: Matrix Multiplication is all you need?\n",
        "\n",
        "We won't just talk about matrix multiplication in these exercises: we'll also play with a neuarl network visualization in order to get some intuition on how to properly parameratize neural networks."
      ],
      "metadata": {
        "id": "_AryvPXMCLY0"
      }
    },
    {
      "cell_type": "markdown",
      "source": [
        "**Task1**:\n",
        "\n",
        "Play with the web app at this [link](http://matrixmultiplication.xyz/).\n",
        "\n",
        "Explain what happens when we do matrix multiplication.\n",
        "\n",
        "Yes, I know I basically already asked you to do this in the notes. Don't copy and paste your anwser from before; honestly do the exercise again."
      ],
      "metadata": {
        "id": "p1alkQDKCfg8"
      }
    },
    {
      "cell_type": "markdown",
      "source": [
        "**Task2**:\n",
        "\n",
        "Look at code for any neural network, such as my notes, or any other source.\n",
        "\n",
        "1. Point out where in the code the neural network is multiplying matricies.\n",
        "\n",
        "2. Conceptually, what part of a neural network is that matrix multiplication that you pointed out?\n",
        "In other words, what does matrix multiplication do for a neural network?"
      ],
      "metadata": {
        "id": "JK1wkGSwC7nW"
      }
    },
    {
      "cell_type": "markdown",
      "source": [
        "**Task3**:\n",
        "\n",
        "Go to the [TensorFlow Playground website](https://playground.tensorflow.org/#activation=tanh&batchSize=10&dataset=circle&regDataset=reg-plane&learningRate=0.03&regularizationRate=0&noise=0&networkShape=4,2&seed=0.16540&showTestData=false&discretize=false&percTrainData=50&x=true&y=true&xTimesY=false&xSquared=false&ySquared=false&cosX=false&sinX=false&cosY=false&sinY=false&collectStats=false&problem=classification&initZero=false&hideText=false).\n",
        "\n",
        "Explain what part of the neural network visualization is matrix multiplication."
      ],
      "metadata": {
        "id": "cUQQ_t5wEtD0"
      }
    },
    {
      "cell_type": "markdown",
      "source": [
        "**Task4**:\n",
        "\n",
        "Go to the [TensorFlow Playground website](https://playground.tensorflow.org/#activation=tanh&batchSize=10&dataset=circle&regDataset=reg-plane&learningRate=0.03&regularizationRate=0&noise=0&networkShape=4,2&seed=0.16540&showTestData=false&discretize=false&percTrainData=50&x=true&y=true&xTimesY=false&xSquared=false&ySquared=false&cosX=false&sinX=false&cosY=false&sinY=false&collectStats=false&problem=classification&initZero=false&hideText=false).\n",
        "\n",
        "Set up the scenario with the following characteristics:\n",
        "\n",
        "- problem type: regression\n",
        "- Data: multi guassian\n",
        "- Ratio: 80% training\n",
        "- Noise: 20\n",
        "- Batch size: 15\n",
        "- Discretize output: start with it checked on\n",
        "\n",
        "You may turn discretize output on or off once you get an idea of what to do, so you can see what each node is doing.\n",
        "\n",
        "Goal: get your test loss to under **0.03**.\n",
        "\n",
        "You may change any of the other parameters that I didn't explicitly tell you to set up. Remember to use the back/restart button inbetween model adjustments.\n",
        "\n",
        "Your answer will be a link to the model you created. How do you get that link? Once you've achieved the appropriate test loss, copy and paste the url."
      ],
      "metadata": {
        "id": "8sYleMUZDKDg"
      }
    },
    {
      "cell_type": "markdown",
      "source": [
        "**Task5**:\n",
        "\n",
        "Go to the [TensorFlow Playground website](https://playground.tensorflow.org/#activation=tanh&batchSize=10&dataset=circle&regDataset=reg-plane&learningRate=0.03&regularizationRate=0&noise=0&networkShape=4,2&seed=0.16540&showTestData=false&discretize=false&percTrainData=50&x=true&y=true&xTimesY=false&xSquared=false&ySquared=false&cosX=false&sinX=false&cosY=false&sinY=false&collectStats=false&problem=classification&initZero=false&hideText=false).\n",
        "\n",
        "Set up the scenario with the following characteristics:\n",
        "\n",
        "- problem type: classification\n",
        "- Data: circle\n",
        "- Ratio: 80% training\n",
        "- Noise: 0\n",
        "- Batch size: 15\n",
        "\n",
        "Goal: get your test loss to under **0.005**.\n",
        "\n",
        "You may change any of the other parameters that I didn't explicitly tell you to set up. Remember to use the back/restart button inbetween model adjustments.\n",
        "\n",
        "Your answer will be a link to the model you created. How do you get that link? Once you've achieved the appropriate test loss, copy and paste the url."
      ],
      "metadata": {
        "id": "4Pan5Q-XJDpe"
      }
    },
    {
      "cell_type": "markdown",
      "source": [
        "**Task6**:\n",
        "\n",
        "Go to the [TensorFlow Playground website](https://playground.tensorflow.org/#activation=tanh&batchSize=10&dataset=circle&regDataset=reg-plane&learningRate=0.03&regularizationRate=0&noise=0&networkShape=4,2&seed=0.16540&showTestData=false&discretize=false&percTrainData=50&x=true&y=true&xTimesY=false&xSquared=false&ySquared=false&cosX=false&sinX=false&cosY=false&sinY=false&collectStats=false&problem=classification&initZero=false&hideText=false).\n",
        "\n",
        "Set up the scenario with the following characteristics:\n",
        "\n",
        "- problem type: classification\n",
        "- Data: spiral\n",
        "- Ratio: 80% training\n",
        "- Noise: 20\n",
        "- Batch size: 15\n",
        "\n",
        "Goal: get your test loss to under **0.05**.\n",
        "\n",
        "You may change any of the other parameters that I didn't explicitly tell you to set up. Remember to use the back/restart button inbetween model adjustments.\n",
        "\n",
        "Your answer will be a link to the model you created. How do you get that link? Once you've achieved the appropriate test loss, copy and paste the url."
      ],
      "metadata": {
        "id": "AKuSgkjWLlwL"
      }
    }
  ]
}